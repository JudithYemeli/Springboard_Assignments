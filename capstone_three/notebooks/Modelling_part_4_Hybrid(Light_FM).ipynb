{
 "cells": [
  {
   "cell_type": "markdown",
   "id": "ff1ef1d3",
   "metadata": {},
   "source": [
    "## E-COMMERCE RECOMMENDER SYSTEM"
   ]
  },
  {
   "cell_type": "markdown",
   "id": "9d3c0e3b",
   "metadata": {},
   "source": [
    "## Part 4: Hybrid Model using LightFM"
   ]
  },
  {
   "cell_type": "markdown",
   "id": "36ce9ebd",
   "metadata": {},
   "source": [
    "The purpose of this notebook is to solve the 'cold start' issue that our collaborative filtering and content based models have only partialy addressed. \n",
    "We will attempt to build a hybrid recommender system using both collaborative and content based approaches. We will leverage the python library LightFM as well as the resource linked below.\n",
    "https://towardsdatascience.com/how-i-would-explain-building-lightfm-hybrid-recommenders-to-a-5-year-old-b6ee18571309"
   ]
  },
  {
   "cell_type": "markdown",
   "id": "318bd972",
   "metadata": {},
   "source": [
    "### Imports"
   ]
  },
  {
   "cell_type": "code",
   "execution_count": 14,
   "id": "cacde983",
   "metadata": {},
   "outputs": [],
   "source": [
    "import pandas as pd\n",
    "import numpy as np\n",
    "import scipy.sparse as sparse\n",
    "from lightfm.data import Dataset\n",
    "from sklearn.preprocessing import LabelEncoder\n",
    "from lightfm.data import Dataset"
   ]
  },
  {
   "cell_type": "code",
   "execution_count": 33,
   "id": "1c439e5d",
   "metadata": {},
   "outputs": [],
   "source": [
    "from lightfm import LightFM\n",
    "from lightfm.evaluation import precision_at_k, recall_at_k, auc_score\n",
    "from lightfm.cross_validation import random_train_test_split"
   ]
  },
  {
   "cell_type": "markdown",
   "id": "0880d4eb",
   "metadata": {},
   "source": [
    "### Loading data"
   ]
  },
  {
   "cell_type": "code",
   "execution_count": 3,
   "id": "8d75ee5e",
   "metadata": {},
   "outputs": [],
   "source": [
    "ratings = pd.read_csv('/Users/judith/Data_science_projects/Springboard_AssignmentsJY/capstone_three/data/processed/ratings.csv')"
   ]
  },
  {
   "cell_type": "code",
   "execution_count": 4,
   "id": "90a8096b",
   "metadata": {},
   "outputs": [],
   "source": [
    "features = pd.read_csv('/Users/judith/Data_science_projects/Springboard_AssignmentsJY/capstone_three/data/processed/features.csv')"
   ]
  },
  {
   "cell_type": "code",
   "execution_count": 5,
   "id": "ad52043f",
   "metadata": {},
   "outputs": [
    {
     "data": {
      "text/html": [
       "<div>\n",
       "<style scoped>\n",
       "    .dataframe tbody tr th:only-of-type {\n",
       "        vertical-align: middle;\n",
       "    }\n",
       "\n",
       "    .dataframe tbody tr th {\n",
       "        vertical-align: top;\n",
       "    }\n",
       "\n",
       "    .dataframe thead th {\n",
       "        text-align: right;\n",
       "    }\n",
       "</style>\n",
       "<table border=\"1\" class=\"dataframe\">\n",
       "  <thead>\n",
       "    <tr style=\"text-align: right;\">\n",
       "      <th></th>\n",
       "      <th>item_id</th>\n",
       "      <th>user_id</th>\n",
       "      <th>rating</th>\n",
       "    </tr>\n",
       "  </thead>\n",
       "  <tbody>\n",
       "    <tr>\n",
       "      <th>0</th>\n",
       "      <td>7443</td>\n",
       "      <td>Alex</td>\n",
       "      <td>4</td>\n",
       "    </tr>\n",
       "    <tr>\n",
       "      <th>1</th>\n",
       "      <td>7443</td>\n",
       "      <td>carolyn.agan</td>\n",
       "      <td>3</td>\n",
       "    </tr>\n",
       "    <tr>\n",
       "      <th>2</th>\n",
       "      <td>7443</td>\n",
       "      <td>Robyn</td>\n",
       "      <td>4</td>\n",
       "    </tr>\n",
       "    <tr>\n",
       "      <th>3</th>\n",
       "      <td>7443</td>\n",
       "      <td>De</td>\n",
       "      <td>4</td>\n",
       "    </tr>\n",
       "    <tr>\n",
       "      <th>4</th>\n",
       "      <td>7443</td>\n",
       "      <td>tasha</td>\n",
       "      <td>4</td>\n",
       "    </tr>\n",
       "  </tbody>\n",
       "</table>\n",
       "</div>"
      ],
      "text/plain": [
       "   item_id       user_id  rating\n",
       "0     7443          Alex       4\n",
       "1     7443  carolyn.agan       3\n",
       "2     7443         Robyn       4\n",
       "3     7443            De       4\n",
       "4     7443         tasha       4"
      ]
     },
     "execution_count": 5,
     "metadata": {},
     "output_type": "execute_result"
    }
   ],
   "source": [
    "ratings.head()"
   ]
  },
  {
   "cell_type": "code",
   "execution_count": 6,
   "id": "dae37c29",
   "metadata": {},
   "outputs": [],
   "source": [
    "# To ease computation, we will encode user_id from string to integer using LabelEncoder\n",
    "user_encoder= LabelEncoder()\n",
    "ratings['user_id'] = user_encoder.fit_transform(ratings['user_id'])"
   ]
  },
  {
   "cell_type": "code",
   "execution_count": 7,
   "id": "43f797d6",
   "metadata": {},
   "outputs": [
    {
     "data": {
      "text/html": [
       "<div>\n",
       "<style scoped>\n",
       "    .dataframe tbody tr th:only-of-type {\n",
       "        vertical-align: middle;\n",
       "    }\n",
       "\n",
       "    .dataframe tbody tr th {\n",
       "        vertical-align: top;\n",
       "    }\n",
       "\n",
       "    .dataframe thead th {\n",
       "        text-align: right;\n",
       "    }\n",
       "</style>\n",
       "<table border=\"1\" class=\"dataframe\">\n",
       "  <thead>\n",
       "    <tr style=\"text-align: right;\">\n",
       "      <th></th>\n",
       "      <th>size</th>\n",
       "      <th>fit</th>\n",
       "      <th>user_attr</th>\n",
       "      <th>model_attr</th>\n",
       "      <th>category</th>\n",
       "      <th>year</th>\n",
       "      <th>split</th>\n",
       "    </tr>\n",
       "  </thead>\n",
       "  <tbody>\n",
       "    <tr>\n",
       "      <th>0</th>\n",
       "      <td>2.0</td>\n",
       "      <td>Just right</td>\n",
       "      <td>Small</td>\n",
       "      <td>Small</td>\n",
       "      <td>Dresses</td>\n",
       "      <td>2012</td>\n",
       "      <td>0</td>\n",
       "    </tr>\n",
       "    <tr>\n",
       "      <th>1</th>\n",
       "      <td>2.0</td>\n",
       "      <td>Just right</td>\n",
       "      <td>Small</td>\n",
       "      <td>Small</td>\n",
       "      <td>Dresses</td>\n",
       "      <td>2012</td>\n",
       "      <td>0</td>\n",
       "    </tr>\n",
       "    <tr>\n",
       "      <th>2</th>\n",
       "      <td>2.0</td>\n",
       "      <td>Just right</td>\n",
       "      <td>Small</td>\n",
       "      <td>Small</td>\n",
       "      <td>Dresses</td>\n",
       "      <td>2012</td>\n",
       "      <td>0</td>\n",
       "    </tr>\n",
       "    <tr>\n",
       "      <th>3</th>\n",
       "      <td>2.0</td>\n",
       "      <td>Just right</td>\n",
       "      <td>Small</td>\n",
       "      <td>Small</td>\n",
       "      <td>Dresses</td>\n",
       "      <td>2012</td>\n",
       "      <td>0</td>\n",
       "    </tr>\n",
       "    <tr>\n",
       "      <th>4</th>\n",
       "      <td>2.0</td>\n",
       "      <td>Just right</td>\n",
       "      <td>Small</td>\n",
       "      <td>Small</td>\n",
       "      <td>Dresses</td>\n",
       "      <td>2012</td>\n",
       "      <td>0</td>\n",
       "    </tr>\n",
       "  </tbody>\n",
       "</table>\n",
       "</div>"
      ],
      "text/plain": [
       "   size         fit user_attr model_attr category  year  split\n",
       "0   2.0  Just right     Small      Small  Dresses  2012      0\n",
       "1   2.0  Just right     Small      Small  Dresses  2012      0\n",
       "2   2.0  Just right     Small      Small  Dresses  2012      0\n",
       "3   2.0  Just right     Small      Small  Dresses  2012      0\n",
       "4   2.0  Just right     Small      Small  Dresses  2012      0"
      ]
     },
     "execution_count": 7,
     "metadata": {},
     "output_type": "execute_result"
    }
   ],
   "source": [
    "features.head()"
   ]
  },
  {
   "cell_type": "code",
   "execution_count": 8,
   "id": "e0133c9f",
   "metadata": {},
   "outputs": [],
   "source": [
    "# We are simply adding others information in other to progress in the rest of the notebook\n",
    "# with a single dataframe instead of 2\n",
    "features['item_id'] = ratings['item_id']\n",
    "features['user_id'] = ratings['user_id']\n",
    "features['rating'] = ratings['rating']"
   ]
  },
  {
   "cell_type": "code",
   "execution_count": 9,
   "id": "c9b6f9d7",
   "metadata": {},
   "outputs": [
    {
     "data": {
      "text/html": [
       "<div>\n",
       "<style scoped>\n",
       "    .dataframe tbody tr th:only-of-type {\n",
       "        vertical-align: middle;\n",
       "    }\n",
       "\n",
       "    .dataframe tbody tr th {\n",
       "        vertical-align: top;\n",
       "    }\n",
       "\n",
       "    .dataframe thead th {\n",
       "        text-align: right;\n",
       "    }\n",
       "</style>\n",
       "<table border=\"1\" class=\"dataframe\">\n",
       "  <thead>\n",
       "    <tr style=\"text-align: right;\">\n",
       "      <th></th>\n",
       "      <th>size</th>\n",
       "      <th>fit</th>\n",
       "      <th>user_attr</th>\n",
       "      <th>model_attr</th>\n",
       "      <th>category</th>\n",
       "      <th>year</th>\n",
       "      <th>split</th>\n",
       "      <th>item_id</th>\n",
       "      <th>user_id</th>\n",
       "      <th>rating</th>\n",
       "    </tr>\n",
       "  </thead>\n",
       "  <tbody>\n",
       "    <tr>\n",
       "      <th>0</th>\n",
       "      <td>2.0</td>\n",
       "      <td>Just right</td>\n",
       "      <td>Small</td>\n",
       "      <td>Small</td>\n",
       "      <td>Dresses</td>\n",
       "      <td>2012</td>\n",
       "      <td>0</td>\n",
       "      <td>7443</td>\n",
       "      <td>309</td>\n",
       "      <td>4</td>\n",
       "    </tr>\n",
       "    <tr>\n",
       "      <th>1</th>\n",
       "      <td>2.0</td>\n",
       "      <td>Just right</td>\n",
       "      <td>Small</td>\n",
       "      <td>Small</td>\n",
       "      <td>Dresses</td>\n",
       "      <td>2012</td>\n",
       "      <td>0</td>\n",
       "      <td>7443</td>\n",
       "      <td>13009</td>\n",
       "      <td>3</td>\n",
       "    </tr>\n",
       "    <tr>\n",
       "      <th>2</th>\n",
       "      <td>2.0</td>\n",
       "      <td>Just right</td>\n",
       "      <td>Small</td>\n",
       "      <td>Small</td>\n",
       "      <td>Dresses</td>\n",
       "      <td>2012</td>\n",
       "      <td>0</td>\n",
       "      <td>7443</td>\n",
       "      <td>5534</td>\n",
       "      <td>4</td>\n",
       "    </tr>\n",
       "    <tr>\n",
       "      <th>3</th>\n",
       "      <td>2.0</td>\n",
       "      <td>Just right</td>\n",
       "      <td>Small</td>\n",
       "      <td>Small</td>\n",
       "      <td>Dresses</td>\n",
       "      <td>2012</td>\n",
       "      <td>0</td>\n",
       "      <td>7443</td>\n",
       "      <td>1716</td>\n",
       "      <td>4</td>\n",
       "    </tr>\n",
       "    <tr>\n",
       "      <th>4</th>\n",
       "      <td>2.0</td>\n",
       "      <td>Just right</td>\n",
       "      <td>Small</td>\n",
       "      <td>Small</td>\n",
       "      <td>Dresses</td>\n",
       "      <td>2012</td>\n",
       "      <td>0</td>\n",
       "      <td>7443</td>\n",
       "      <td>42071</td>\n",
       "      <td>4</td>\n",
       "    </tr>\n",
       "  </tbody>\n",
       "</table>\n",
       "</div>"
      ],
      "text/plain": [
       "   size         fit user_attr model_attr category  year  split  item_id  \\\n",
       "0   2.0  Just right     Small      Small  Dresses  2012      0     7443   \n",
       "1   2.0  Just right     Small      Small  Dresses  2012      0     7443   \n",
       "2   2.0  Just right     Small      Small  Dresses  2012      0     7443   \n",
       "3   2.0  Just right     Small      Small  Dresses  2012      0     7443   \n",
       "4   2.0  Just right     Small      Small  Dresses  2012      0     7443   \n",
       "\n",
       "   user_id  rating  \n",
       "0      309       4  \n",
       "1    13009       3  \n",
       "2     5534       4  \n",
       "3     1716       4  \n",
       "4    42071       4  "
      ]
     },
     "execution_count": 9,
     "metadata": {},
     "output_type": "execute_result"
    }
   ],
   "source": [
    "# Checking the final look of the dataframe\n",
    "features.head()"
   ]
  },
  {
   "cell_type": "markdown",
   "id": "c27867c7",
   "metadata": {},
   "source": [
    "### Pre-processing"
   ]
  },
  {
   "cell_type": "markdown",
   "id": "9b611184",
   "metadata": {},
   "source": [
    "#### Creating the interactions matrix"
   ]
  },
  {
   "cell_type": "code",
   "execution_count": 10,
   "id": "841b4542",
   "metadata": {},
   "outputs": [],
   "source": [
    "# Code below create a list containing user, item interactions\n",
    "records = features[['user_id', 'item_id', 'rating']] .to_records(index = False)\n",
    "interactions = list(records)"
   ]
  },
  {
   "cell_type": "code",
   "execution_count": 11,
   "id": "59196625",
   "metadata": {},
   "outputs": [
    {
     "name": "stdout",
     "output_type": "stream",
     "text": [
      "(5534, 7443, 4)\n"
     ]
    }
   ],
   "source": [
    "# checking the shape of a sample interaction value\n",
    "print(interactions[2])"
   ]
  },
  {
   "cell_type": "code",
   "execution_count": 12,
   "id": "4f7ae692",
   "metadata": {},
   "outputs": [],
   "source": [
    "# Creating the unique list of users\n",
    "users = list(features.user_id.unique())"
   ]
  },
  {
   "cell_type": "code",
   "execution_count": 13,
   "id": "b385a91b",
   "metadata": {},
   "outputs": [],
   "source": [
    "# Creating the unique list of items\n",
    "items = list(features.item_id.unique())"
   ]
  },
  {
   "cell_type": "markdown",
   "id": "0b2368dd",
   "metadata": {},
   "source": [
    "#### Creating items features"
   ]
  },
  {
   "cell_type": "code",
   "execution_count": 15,
   "id": "d2559973",
   "metadata": {},
   "outputs": [],
   "source": [
    "# Creating features labels\n",
    "uf = []\n",
    "col = ['fit']*len(features.fit.unique()) + ['model_attr']*len(features.model_attr.unique()) +['category']*len(features.category.unique())"
   ]
  },
  {
   "cell_type": "code",
   "execution_count": 16,
   "id": "687e51a8",
   "metadata": {},
   "outputs": [],
   "source": [
    "# creating features list\n",
    "unique_f1 = list(features.fit.unique()) + list(features.model_attr.unique()) + list(features.category.unique())"
   ]
  },
  {
   "cell_type": "code",
   "execution_count": 17,
   "id": "e5ee0e32",
   "metadata": {},
   "outputs": [],
   "source": [
    "# putting all together\n",
    "for x,y in zip(col, unique_f1):\n",
    "    res= str(x) + ':' +str(y)\n",
    "    uf.append(res)"
   ]
  },
  {
   "cell_type": "code",
   "execution_count": 18,
   "id": "833f9b25",
   "metadata": {},
   "outputs": [
    {
     "data": {
      "text/plain": [
       "['fit:Just right',\n",
       " 'fit:Slightly small',\n",
       " 'fit:Very small',\n",
       " 'fit:Slightly large',\n",
       " 'fit:Very large',\n",
       " 'model_attr:Small',\n",
       " 'model_attr:Small&Large',\n",
       " 'category:Dresses',\n",
       " 'category:Outerwear',\n",
       " 'category:Bottoms',\n",
       " 'category:Tops']"
      ]
     },
     "execution_count": 18,
     "metadata": {},
     "output_type": "execute_result"
    }
   ],
   "source": [
    "uf"
   ]
  },
  {
   "cell_type": "code",
   "execution_count": 19,
   "id": "e29881d7",
   "metadata": {},
   "outputs": [],
   "source": [
    "# Creating a dataset\n",
    "dataset = Dataset()\n",
    "dataset.fit(\n",
    "    users=users,\n",
    "    items=items,\n",
    "    item_features=uf)"
   ]
  },
  {
   "cell_type": "code",
   "execution_count": 20,
   "id": "367d6838",
   "metadata": {},
   "outputs": [],
   "source": [
    "# Creating interactions and weights from our interactions table\n",
    "(interactions, weights) = dataset.build_interactions(interactions)"
   ]
  },
  {
   "cell_type": "markdown",
   "id": "f102f566",
   "metadata": {},
   "source": [
    "We will be using only 3 of the features available for the next steps: \n",
    "Fit, model_attr and category\n",
    "These are the features that seems the most meaningful for our model"
   ]
  },
  {
   "cell_type": "code",
   "execution_count": 23,
   "id": "1d557fe8",
   "metadata": {},
   "outputs": [],
   "source": [
    "# function that takes the user features and converts them into 'features:value' format\n",
    "\n",
    "def feature_colon_value(my_list):\n",
    "    result = []\n",
    "    ll =  ['fit:', 'model_attr:', 'category:']\n",
    "    aa = my_list\n",
    "    for x, y in zip(ll, aa):\n",
    "        res = str(x) + '' + str(y)\n",
    "        result.append(res)\n",
    "    return result"
   ]
  },
  {
   "cell_type": "code",
   "execution_count": 24,
   "id": "87fc24e3",
   "metadata": {},
   "outputs": [],
   "source": [
    "# applying the feature-colon_value function to our features list\n",
    "ad_subset = features[['fit', 'model_attr', 'category']]\n",
    "ad_list = [list(x) for x in ad_subset.values]\n",
    "feature_list = []\n",
    "for item in ad_list:\n",
    "    feature_list.append(feature_colon_value(item))"
   ]
  },
  {
   "cell_type": "code",
   "execution_count": 25,
   "id": "d74264ae",
   "metadata": {},
   "outputs": [],
   "source": [
    "# creating tuples of item and features\n",
    "item_tuple = list(zip(features.item_id.unique(), feature_list))"
   ]
  },
  {
   "cell_type": "code",
   "execution_count": 26,
   "id": "5af710b7",
   "metadata": {},
   "outputs": [],
   "source": [
    "# Extracting item_features\n",
    "item_features = dataset.build_item_features(item_tuple, normalize = False)"
   ]
  },
  {
   "cell_type": "code",
   "execution_count": 30,
   "id": "308de026",
   "metadata": {},
   "outputs": [],
   "source": [
    "# Splitting interactions into train and test data for evaluation\n",
    "train, test = random_train_test_split(interactions, test_percentage = 0.2, random_state = None)"
   ]
  },
  {
   "cell_type": "markdown",
   "id": "9bf15d09",
   "metadata": {},
   "source": [
    "### Modelling"
   ]
  },
  {
   "cell_type": "code",
   "execution_count": 32,
   "id": "aba10775",
   "metadata": {},
   "outputs": [
    {
     "data": {
      "text/plain": [
       "<lightfm.lightfm.LightFM at 0x1332572d0>"
      ]
     },
     "execution_count": 32,
     "metadata": {},
     "output_type": "execute_result"
    }
   ],
   "source": [
    "model = LightFM(loss = 'warp')\n",
    "model.fit(interactions = train,\n",
    "          item_features = item_features,\n",
    "         epochs = 10)"
   ]
  },
  {
   "cell_type": "markdown",
   "id": "cd55c21a",
   "metadata": {},
   "source": [
    "### Evaluation"
   ]
  },
  {
   "cell_type": "code",
   "execution_count": 35,
   "id": "518798f9",
   "metadata": {},
   "outputs": [
    {
     "data": {
      "text/plain": [
       "(0.9794243, 0.8554151)"
      ]
     },
     "execution_count": 35,
     "metadata": {},
     "output_type": "execute_result"
    }
   ],
   "source": [
    "train_auc = auc_score(model, train, item_features = item_features).mean()\n",
    "test_auc = auc_score(model, test, item_features = item_features).mean()\n",
    "train_auc, test_auc"
   ]
  },
  {
   "cell_type": "code",
   "execution_count": 54,
   "id": "f6279b93",
   "metadata": {},
   "outputs": [],
   "source": [
    "recall_10 = recall_at_k(model, test, train, k= 100, item_features = item_features).mean()"
   ]
  },
  {
   "cell_type": "code",
   "execution_count": 55,
   "id": "06b680cc",
   "metadata": {},
   "outputs": [],
   "source": [
    "precision_10 = precision_at_k(model, test, train, k=100, item_features = item_features).mean()"
   ]
  },
  {
   "cell_type": "code",
   "execution_count": 56,
   "id": "5aa1f2b4",
   "metadata": {},
   "outputs": [
    {
     "data": {
      "text/plain": [
       "(0.6129159726205952, 0.00910091)"
      ]
     },
     "execution_count": 56,
     "metadata": {},
     "output_type": "execute_result"
    }
   ],
   "source": [
    "recall_10, precision_10"
   ]
  },
  {
   "cell_type": "markdown",
   "id": "4092de33",
   "metadata": {},
   "source": [
    "### Conclusions"
   ]
  },
  {
   "cell_type": "markdown",
   "id": "7880bd63",
   "metadata": {},
   "source": [
    "We were finally able to implement a model combining benefits of both collaborative filtering and content base\n",
    "AUC score looks great, however, precision and recall are not as performing as our suprise model\n",
    "Our final recommendation would be to implement both the surprize SVD model along with the lightFM model targeting different used depending if they are new or returning"
   ]
  }
 ],
 "metadata": {
  "kernelspec": {
   "display_name": "Python 3",
   "language": "python",
   "name": "python3"
  },
  "language_info": {
   "codemirror_mode": {
    "name": "ipython",
    "version": 3
   },
   "file_extension": ".py",
   "mimetype": "text/x-python",
   "name": "python",
   "nbconvert_exporter": "python",
   "pygments_lexer": "ipython3",
   "version": "3.7.7"
  }
 },
 "nbformat": 4,
 "nbformat_minor": 5
}
