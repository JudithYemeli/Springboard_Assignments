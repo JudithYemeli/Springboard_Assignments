{
 "cells": [
  {
   "cell_type": "markdown",
   "id": "30ceea8f",
   "metadata": {},
   "source": [
    "## E-COMMERCE RECOMMENDER SYSTEM"
   ]
  },
  {
   "cell_type": "markdown",
   "id": "d0224080",
   "metadata": {},
   "source": [
    "## MODELLING: Part 3"
   ]
  },
  {
   "cell_type": "markdown",
   "id": "95ffab57",
   "metadata": {},
   "source": [
    "The objective of this notebook is to develop a content base approach using items features to solve the cold start issue that wasnt adressed by the previous models.\n",
    "We will assume the most important features that can be personalized are category (dresses, sweatpants...ect), model_attr and size. We will focus on these.\n",
    "Items similarity will be measured using their cosine distance\n",
    "\n",
    "We will also explore a hybrid model that parralize recommendations from our SVD model and the one developed here "
   ]
  },
  {
   "cell_type": "markdown",
   "id": "10b5f85b",
   "metadata": {},
   "source": [
    "### Imports"
   ]
  },
  {
   "cell_type": "code",
   "execution_count": 2,
   "id": "cdf34fcc",
   "metadata": {},
   "outputs": [],
   "source": [
    "import pandas as pd\n",
    "import numpy as np\n",
    "import matplotlib.pyplot as plt\n",
    "import seaborn as sns\n",
    "from sklearn.metrics.pairwise import cosine_similarity\n",
    "from sklearn.feature_extraction.text import TfidfVectorizer"
   ]
  },
  {
   "cell_type": "code",
   "execution_count": 7,
   "id": "b78c80b0",
   "metadata": {},
   "outputs": [],
   "source": [
    "raw_data = pd.read_csv('/Users/judith/Data_science_projects/Springboard_AssignmentsJY/capstone_three/data/raw/df_modcloth.csv')"
   ]
  },
  {
   "cell_type": "code",
   "execution_count": 9,
   "id": "d6b4533c",
   "metadata": {},
   "outputs": [
    {
     "data": {
      "text/html": [
       "<div>\n",
       "<style scoped>\n",
       "    .dataframe tbody tr th:only-of-type {\n",
       "        vertical-align: middle;\n",
       "    }\n",
       "\n",
       "    .dataframe tbody tr th {\n",
       "        vertical-align: top;\n",
       "    }\n",
       "\n",
       "    .dataframe thead th {\n",
       "        text-align: right;\n",
       "    }\n",
       "</style>\n",
       "<table border=\"1\" class=\"dataframe\">\n",
       "  <thead>\n",
       "    <tr style=\"text-align: right;\">\n",
       "      <th></th>\n",
       "      <th>item_id</th>\n",
       "      <th>user_id</th>\n",
       "      <th>rating</th>\n",
       "      <th>timestamp</th>\n",
       "      <th>size</th>\n",
       "      <th>fit</th>\n",
       "      <th>user_attr</th>\n",
       "      <th>model_attr</th>\n",
       "      <th>category</th>\n",
       "      <th>brand</th>\n",
       "      <th>year</th>\n",
       "      <th>split</th>\n",
       "    </tr>\n",
       "  </thead>\n",
       "  <tbody>\n",
       "    <tr>\n",
       "      <th>0</th>\n",
       "      <td>7443</td>\n",
       "      <td>Alex</td>\n",
       "      <td>4</td>\n",
       "      <td>2010-01-21 08:00:00+00:00</td>\n",
       "      <td>NaN</td>\n",
       "      <td>NaN</td>\n",
       "      <td>Small</td>\n",
       "      <td>Small</td>\n",
       "      <td>Dresses</td>\n",
       "      <td>NaN</td>\n",
       "      <td>2012</td>\n",
       "      <td>0</td>\n",
       "    </tr>\n",
       "    <tr>\n",
       "      <th>1</th>\n",
       "      <td>7443</td>\n",
       "      <td>carolyn.agan</td>\n",
       "      <td>3</td>\n",
       "      <td>2010-01-27 08:00:00+00:00</td>\n",
       "      <td>NaN</td>\n",
       "      <td>NaN</td>\n",
       "      <td>NaN</td>\n",
       "      <td>Small</td>\n",
       "      <td>Dresses</td>\n",
       "      <td>NaN</td>\n",
       "      <td>2012</td>\n",
       "      <td>0</td>\n",
       "    </tr>\n",
       "    <tr>\n",
       "      <th>2</th>\n",
       "      <td>7443</td>\n",
       "      <td>Robyn</td>\n",
       "      <td>4</td>\n",
       "      <td>2010-01-29 08:00:00+00:00</td>\n",
       "      <td>NaN</td>\n",
       "      <td>NaN</td>\n",
       "      <td>Small</td>\n",
       "      <td>Small</td>\n",
       "      <td>Dresses</td>\n",
       "      <td>NaN</td>\n",
       "      <td>2012</td>\n",
       "      <td>0</td>\n",
       "    </tr>\n",
       "    <tr>\n",
       "      <th>3</th>\n",
       "      <td>7443</td>\n",
       "      <td>De</td>\n",
       "      <td>4</td>\n",
       "      <td>2010-02-13 08:00:00+00:00</td>\n",
       "      <td>NaN</td>\n",
       "      <td>NaN</td>\n",
       "      <td>NaN</td>\n",
       "      <td>Small</td>\n",
       "      <td>Dresses</td>\n",
       "      <td>NaN</td>\n",
       "      <td>2012</td>\n",
       "      <td>0</td>\n",
       "    </tr>\n",
       "    <tr>\n",
       "      <th>4</th>\n",
       "      <td>7443</td>\n",
       "      <td>tasha</td>\n",
       "      <td>4</td>\n",
       "      <td>2010-02-18 08:00:00+00:00</td>\n",
       "      <td>NaN</td>\n",
       "      <td>NaN</td>\n",
       "      <td>Small</td>\n",
       "      <td>Small</td>\n",
       "      <td>Dresses</td>\n",
       "      <td>NaN</td>\n",
       "      <td>2012</td>\n",
       "      <td>0</td>\n",
       "    </tr>\n",
       "  </tbody>\n",
       "</table>\n",
       "</div>"
      ],
      "text/plain": [
       "   item_id       user_id  rating                  timestamp  size  fit  \\\n",
       "0     7443          Alex       4  2010-01-21 08:00:00+00:00   NaN  NaN   \n",
       "1     7443  carolyn.agan       3  2010-01-27 08:00:00+00:00   NaN  NaN   \n",
       "2     7443         Robyn       4  2010-01-29 08:00:00+00:00   NaN  NaN   \n",
       "3     7443            De       4  2010-02-13 08:00:00+00:00   NaN  NaN   \n",
       "4     7443         tasha       4  2010-02-18 08:00:00+00:00   NaN  NaN   \n",
       "\n",
       "  user_attr model_attr category brand  year  split  \n",
       "0     Small      Small  Dresses   NaN  2012      0  \n",
       "1       NaN      Small  Dresses   NaN  2012      0  \n",
       "2     Small      Small  Dresses   NaN  2012      0  \n",
       "3       NaN      Small  Dresses   NaN  2012      0  \n",
       "4     Small      Small  Dresses   NaN  2012      0  "
      ]
     },
     "execution_count": 9,
     "metadata": {},
     "output_type": "execute_result"
    }
   ],
   "source": [
    "raw_data.head()"
   ]
  },
  {
   "cell_type": "markdown",
   "id": "c545374e",
   "metadata": {},
   "source": [
    "## Extracting features of importance"
   ]
  },
  {
   "cell_type": "code",
   "execution_count": 10,
   "id": "0f860c57",
   "metadata": {},
   "outputs": [],
   "source": [
    "# Defining a function that will calculate similarity of an item vs others items\n",
    "# and return the best 15\n"
   ]
  },
  {
   "cell_type": "code",
   "execution_count": 11,
   "id": "6d68fba8",
   "metadata": {},
   "outputs": [],
   "source": [
    "# as the text modelling cannot support NaN, we will convert them into empty space prior to processing\n",
    "data = raw_data.fillna('')"
   ]
  },
  {
   "cell_type": "code",
   "execution_count": 12,
   "id": "9af1e7f4",
   "metadata": {},
   "outputs": [],
   "source": [
    "# Here we are creating a new column that will aggregate the text from the 3 features\n",
    "# columns that we are interested in\n",
    "data['aggr'] = data['size'].map(str) + ' '+ data['model_attr'].map(str) + ' '+ data['category'].map(str)"
   ]
  },
  {
   "cell_type": "markdown",
   "id": "9dc51bcf",
   "metadata": {},
   "source": [
    "## Modelling"
   ]
  },
  {
   "cell_type": "code",
   "execution_count": 13,
   "id": "28feac6e",
   "metadata": {},
   "outputs": [],
   "source": [
    "# WARNING: subsetting a sample because the cosine similarity cannot compute on the total dataset\n",
    "test = data.head(20)"
   ]
  },
  {
   "cell_type": "code",
   "execution_count": 14,
   "id": "9224f5b1",
   "metadata": {},
   "outputs": [],
   "source": [
    "# Instantiating the vectorizer and fitting the text\n",
    "vect = TfidfVectorizer()\n",
    "matrix = vect.fit_transform(test['aggr'])"
   ]
  },
  {
   "cell_type": "code",
   "execution_count": 15,
   "id": "c693a0a1",
   "metadata": {},
   "outputs": [
    {
     "name": "stdout",
     "output_type": "stream",
     "text": [
      "['dresses', 'large', 'outerwear', 'small']\n"
     ]
    }
   ],
   "source": [
    "# printing the features that will go into our matrix\n",
    "print(vect.get_feature_names())"
   ]
  },
  {
   "cell_type": "code",
   "execution_count": 16,
   "id": "9dab82b9",
   "metadata": {},
   "outputs": [
    {
     "name": "stdout",
     "output_type": "stream",
     "text": [
      "[[0.73996547 0.         0.         0.67264485]\n",
      " [0.73996547 0.         0.         0.67264485]\n",
      " [0.73996547 0.         0.         0.67264485]\n",
      " [0.73996547 0.         0.         0.67264485]\n",
      " [0.73996547 0.         0.         0.67264485]\n",
      " [0.73996547 0.         0.         0.67264485]\n",
      " [0.73996547 0.         0.         0.67264485]\n",
      " [0.73996547 0.         0.         0.67264485]\n",
      " [0.73996547 0.         0.         0.67264485]\n",
      " [0.73996547 0.         0.         0.67264485]\n",
      " [0.73996547 0.         0.         0.67264485]\n",
      " [0.         0.68757698 0.68757698 0.23340053]\n",
      " [0.73996547 0.         0.         0.67264485]\n",
      " [0.73996547 0.         0.         0.67264485]\n",
      " [0.73996547 0.         0.         0.67264485]\n",
      " [0.73996547 0.         0.         0.67264485]\n",
      " [0.73996547 0.         0.         0.67264485]\n",
      " [0.73996547 0.         0.         0.67264485]\n",
      " [0.73996547 0.         0.         0.67264485]\n",
      " [0.         0.68757698 0.68757698 0.23340053]]\n"
     ]
    }
   ],
   "source": [
    "# checking how the matrix looks like\n",
    "print(matrix.toarray())"
   ]
  },
  {
   "cell_type": "code",
   "execution_count": 17,
   "id": "a3463b4e",
   "metadata": {},
   "outputs": [],
   "source": [
    "# calculating the similarity\n",
    "cosine_sim = cosine_similarity(matrix ,matrix)"
   ]
  },
  {
   "cell_type": "code",
   "execution_count": 18,
   "id": "55b3f4b8",
   "metadata": {},
   "outputs": [
    {
     "data": {
      "text/html": [
       "<div>\n",
       "<style scoped>\n",
       "    .dataframe tbody tr th:only-of-type {\n",
       "        vertical-align: middle;\n",
       "    }\n",
       "\n",
       "    .dataframe tbody tr th {\n",
       "        vertical-align: top;\n",
       "    }\n",
       "\n",
       "    .dataframe thead th {\n",
       "        text-align: right;\n",
       "    }\n",
       "</style>\n",
       "<table border=\"1\" class=\"dataframe\">\n",
       "  <thead>\n",
       "    <tr style=\"text-align: right;\">\n",
       "      <th></th>\n",
       "      <th>item_id</th>\n",
       "    </tr>\n",
       "  </thead>\n",
       "  <tbody>\n",
       "    <tr>\n",
       "      <th>0</th>\n",
       "      <td>7443</td>\n",
       "    </tr>\n",
       "    <tr>\n",
       "      <th>1</th>\n",
       "      <td>11960</td>\n",
       "    </tr>\n",
       "  </tbody>\n",
       "</table>\n",
       "</div>"
      ],
      "text/plain": [
       "   item_id\n",
       "0     7443\n",
       "1    11960"
      ]
     },
     "execution_count": 18,
     "metadata": {},
     "output_type": "execute_result"
    }
   ],
   "source": [
    "# this and the following code try to develop a function to retrieve predictions\n",
    "test2 = test['item_id'].unique()\n",
    "test2 = pd.DataFrame(test2, columns = ['item_id'])\n",
    "test2"
   ]
  },
  {
   "cell_type": "code",
   "execution_count": 19,
   "id": "54c60250",
   "metadata": {},
   "outputs": [],
   "source": [
    "# test2.reset_index()"
   ]
  },
  {
   "cell_type": "code",
   "execution_count": 20,
   "id": "3dd294f8",
   "metadata": {},
   "outputs": [],
   "source": [
    "indices = pd.Series(test2.index, index=test2['item_id'])"
   ]
  },
  {
   "cell_type": "code",
   "execution_count": 21,
   "id": "e12fb696",
   "metadata": {},
   "outputs": [],
   "source": [
    "# Defining a function to get the top recommendations for an item based on \n",
    "# similarities with others items\n",
    "\n",
    "def recommend_items(item_id, cosine_sim):\n",
    "    index = indices[item_id]\n",
    "    sim_scores = list(enumerate(cosine_sim[index]))\n",
    "    sim_scores = sorted(sim_scores, key = lambda x: x[1], reverse = True)\n",
    "    sim_scores = sim_scores[:16]\n",
    "    item_indexes = [i[0] for i in sim_scores]\n",
    "    return raw_data['item_id'].iloc[item_indexes]"
   ]
  },
  {
   "cell_type": "code",
   "execution_count": 22,
   "id": "79d6be47",
   "metadata": {},
   "outputs": [
    {
     "data": {
      "text/plain": [
       "0     7443\n",
       "1     7443\n",
       "2     7443\n",
       "3     7443\n",
       "4     7443\n",
       "5     7443\n",
       "6     7443\n",
       "7     7443\n",
       "8     7443\n",
       "9     7443\n",
       "10    7443\n",
       "12    7443\n",
       "13    7443\n",
       "14    7443\n",
       "15    7443\n",
       "16    7443\n",
       "Name: item_id, dtype: int64"
      ]
     },
     "execution_count": 22,
     "metadata": {},
     "output_type": "execute_result"
    }
   ],
   "source": [
    "# checking a sample recommendation\n",
    "recommend_items(7443, cosine_sim)"
   ]
  },
  {
   "cell_type": "markdown",
   "id": "834d6ddf",
   "metadata": {},
   "source": [
    "The content based approach gives us the expected results but is not suitable for recommending items to users with many interactions which is where our previous SVD algorithm outperformed.\n",
    "We will attempt below to build an ensemble method that takes as input from both algorithmns, rank the results by aggregrating the number of time the each item has been recommended to rank the results and returing a final list of ranked results."
   ]
  },
  {
   "cell_type": "code",
   "execution_count": 23,
   "id": "819d3eee",
   "metadata": {},
   "outputs": [],
   "source": [
    "# Defining the function as explained above which leverage both SVD predictions and content base results\n",
    "def hybrid_recommendations(item_id):\n",
    "    CB_rec = recommened_items(item_id, cosine_sim)\n",
    "    CF_rec = make_recommendations(predictions, 10)\n",
    "    all_rec = CB_rec + CF_rec\n",
    "    all_rec_df = pd.DataFrame(all_rec).reset_index()\n",
    "    scoring = all_rec_df.groupby('item_id').count().sort_values(by = 'index', ascending = False)\n",
    "    return scoring[:10]"
   ]
  }
 ],
 "metadata": {
  "kernelspec": {
   "display_name": "Python 3",
   "language": "python",
   "name": "python3"
  },
  "language_info": {
   "codemirror_mode": {
    "name": "ipython",
    "version": 3
   },
   "file_extension": ".py",
   "mimetype": "text/x-python",
   "name": "python",
   "nbconvert_exporter": "python",
   "pygments_lexer": "ipython3",
   "version": "3.7.7"
  }
 },
 "nbformat": 4,
 "nbformat_minor": 5
}
