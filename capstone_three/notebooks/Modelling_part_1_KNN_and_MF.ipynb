{
 "cells": [
  {
   "cell_type": "markdown",
   "id": "654d7205",
   "metadata": {},
   "source": [
    "## E-COMMERCE RECOMMENDER SYSTEM"
   ]
  },
  {
   "cell_type": "markdown",
   "id": "617afc98",
   "metadata": {},
   "source": [
    "## MODELLING: Part 1"
   ]
  },
  {
   "cell_type": "markdown",
   "id": "28d79b0c",
   "metadata": {},
   "source": [
    "**Key takeouts from data wrangling and EDA suggest the following approaches:**\n",
    "\n",
    "- Collaborative Filtering\n",
    "    - we can leverage collaborative filtering to design the recommender system using a model that use historical data but also learn patterns as the number of ratings increases. For this we will apply 2 algorithms: KNN and SVD. \n",
    "\n",
    "- Data qualiy\n",
    "    - There is considerable number of products with low ratings which is the case for the 'cold start' problem. Hence for our model to be effective, we will only consider in users having at least 3 reviews (average is 43 reviews per user).\n",
    "\n",
    "The objective of this notebook is to apply a collaborative filtering approach on 2 si;ple qlgorith;s. KNN and Matrix Factorization."
   ]
  },
  {
   "cell_type": "markdown",
   "id": "e1ffbd3b",
   "metadata": {},
   "source": [
    "## Imports"
   ]
  },
  {
   "cell_type": "code",
   "execution_count": 73,
   "id": "e2c9b083",
   "metadata": {},
   "outputs": [],
   "source": [
    "import pandas as pd\n",
    "import numpy as np\n",
    "import matplotlib.pyplot as plt\n",
    "import seaborn as sns\n",
    "from scipy.sparse import csr_matrix\n",
    "from sklearn.model_selection import train_test_split\n",
    "from sklearn.neighbors import NearestNeighbors\n",
    "from sklearn.metrics import mean_squared_error\n",
    "from scipy.sparse.linalg import svds\n",
    "from collections import defaultdict"
   ]
  },
  {
   "cell_type": "markdown",
   "id": "bf31fa5b",
   "metadata": {},
   "source": [
    "## Loading data"
   ]
  },
  {
   "cell_type": "code",
   "execution_count": 5,
   "id": "9a3fc6a1",
   "metadata": {},
   "outputs": [],
   "source": [
    "data = pd.read_csv('/Users/judith/Data_science_projects/Springboard_AssignmentsJY/capstone_three/data/processed/ratings_data.csv')"
   ]
  },
  {
   "cell_type": "markdown",
   "id": "1be75bc4",
   "metadata": {},
   "source": [
    "data.head()"
   ]
  },
  {
   "cell_type": "markdown",
   "id": "b9f3358d",
   "metadata": {},
   "source": [
    "### KNN"
   ]
  },
  {
   "cell_type": "code",
   "execution_count": 7,
   "id": "908dec24",
   "metadata": {},
   "outputs": [],
   "source": [
    "# ensuring there are no duplicates in our dataset\n",
    "data = data.drop_duplicates(subset=['item_id', 'user_id'])"
   ]
  },
  {
   "cell_type": "code",
   "execution_count": 8,
   "id": "befdeb02",
   "metadata": {},
   "outputs": [
    {
     "data": {
      "text/plain": [
       "item_id    0\n",
       "user_id    0\n",
       "rating     0\n",
       "dtype: int64"
      ]
     },
     "execution_count": 8,
     "metadata": {},
     "output_type": "execute_result"
    }
   ],
   "source": [
    "# Ensuring there are no null values in our dataset\n",
    "data.isnull().sum()"
   ]
  },
  {
   "cell_type": "code",
   "execution_count": 10,
   "id": "ffd827cd",
   "metadata": {},
   "outputs": [],
   "source": [
    "# creating the matrix to input the model by pivoting the dataframe\n",
    "ratings_pivot = data.pivot(index = 'item_id', \n",
    "                                  columns = 'user_id', \n",
    "                                  values = 'rating').fillna(0)"
   ]
  },
  {
   "cell_type": "code",
   "execution_count": 11,
   "id": "00300d0c",
   "metadata": {},
   "outputs": [
    {
     "data": {
      "text/html": [
       "<div>\n",
       "<style scoped>\n",
       "    .dataframe tbody tr th:only-of-type {\n",
       "        vertical-align: middle;\n",
       "    }\n",
       "\n",
       "    .dataframe tbody tr th {\n",
       "        vertical-align: top;\n",
       "    }\n",
       "\n",
       "    .dataframe thead th {\n",
       "        text-align: right;\n",
       "    }\n",
       "</style>\n",
       "<table border=\"1\" class=\"dataframe\">\n",
       "  <thead>\n",
       "    <tr style=\"text-align: right;\">\n",
       "      <th>user_id</th>\n",
       "      <th>\"Ferrari\")</th>\n",
       "      <th>#</th>\n",
       "      <th>#1dad</th>\n",
       "      <th>'Chelle</th>\n",
       "      <th>'Tree'</th>\n",
       "      <th>(usually)</th>\n",
       "      <th>-L</th>\n",
       "      <th>.</th>\n",
       "      <th>..</th>\n",
       "      <th>00erin</th>\n",
       "      <th>...</th>\n",
       "      <th>zuel</th>\n",
       "      <th>zugai01</th>\n",
       "      <th>zulemaphone</th>\n",
       "      <th>zumbafitnesscarly</th>\n",
       "      <th>zumbaneko</th>\n",
       "      <th>zurajohnson</th>\n",
       "      <th>zuzu_zoom</th>\n",
       "      <th>🇦🇺</th>\n",
       "      <th>🐻</th>\n",
       "      <th>😊</th>\n",
       "    </tr>\n",
       "    <tr>\n",
       "      <th>item_id</th>\n",
       "      <th></th>\n",
       "      <th></th>\n",
       "      <th></th>\n",
       "      <th></th>\n",
       "      <th></th>\n",
       "      <th></th>\n",
       "      <th></th>\n",
       "      <th></th>\n",
       "      <th></th>\n",
       "      <th></th>\n",
       "      <th></th>\n",
       "      <th></th>\n",
       "      <th></th>\n",
       "      <th></th>\n",
       "      <th></th>\n",
       "      <th></th>\n",
       "      <th></th>\n",
       "      <th></th>\n",
       "      <th></th>\n",
       "      <th></th>\n",
       "      <th></th>\n",
       "    </tr>\n",
       "  </thead>\n",
       "  <tbody>\n",
       "    <tr>\n",
       "      <th>6454</th>\n",
       "      <td>0.0</td>\n",
       "      <td>0.0</td>\n",
       "      <td>0.0</td>\n",
       "      <td>0.0</td>\n",
       "      <td>0.0</td>\n",
       "      <td>0.0</td>\n",
       "      <td>0.0</td>\n",
       "      <td>0.0</td>\n",
       "      <td>0.0</td>\n",
       "      <td>0.0</td>\n",
       "      <td>...</td>\n",
       "      <td>0.0</td>\n",
       "      <td>0.0</td>\n",
       "      <td>0.0</td>\n",
       "      <td>0.0</td>\n",
       "      <td>0.0</td>\n",
       "      <td>0.0</td>\n",
       "      <td>0.0</td>\n",
       "      <td>0.0</td>\n",
       "      <td>0.0</td>\n",
       "      <td>0.0</td>\n",
       "    </tr>\n",
       "    <tr>\n",
       "      <th>7443</th>\n",
       "      <td>0.0</td>\n",
       "      <td>0.0</td>\n",
       "      <td>0.0</td>\n",
       "      <td>0.0</td>\n",
       "      <td>0.0</td>\n",
       "      <td>0.0</td>\n",
       "      <td>0.0</td>\n",
       "      <td>0.0</td>\n",
       "      <td>0.0</td>\n",
       "      <td>0.0</td>\n",
       "      <td>...</td>\n",
       "      <td>0.0</td>\n",
       "      <td>0.0</td>\n",
       "      <td>0.0</td>\n",
       "      <td>0.0</td>\n",
       "      <td>0.0</td>\n",
       "      <td>0.0</td>\n",
       "      <td>0.0</td>\n",
       "      <td>0.0</td>\n",
       "      <td>0.0</td>\n",
       "      <td>0.0</td>\n",
       "    </tr>\n",
       "    <tr>\n",
       "      <th>11960</th>\n",
       "      <td>0.0</td>\n",
       "      <td>0.0</td>\n",
       "      <td>0.0</td>\n",
       "      <td>0.0</td>\n",
       "      <td>0.0</td>\n",
       "      <td>0.0</td>\n",
       "      <td>0.0</td>\n",
       "      <td>0.0</td>\n",
       "      <td>0.0</td>\n",
       "      <td>0.0</td>\n",
       "      <td>...</td>\n",
       "      <td>0.0</td>\n",
       "      <td>0.0</td>\n",
       "      <td>0.0</td>\n",
       "      <td>0.0</td>\n",
       "      <td>0.0</td>\n",
       "      <td>0.0</td>\n",
       "      <td>0.0</td>\n",
       "      <td>0.0</td>\n",
       "      <td>0.0</td>\n",
       "      <td>0.0</td>\n",
       "    </tr>\n",
       "    <tr>\n",
       "      <th>16411</th>\n",
       "      <td>0.0</td>\n",
       "      <td>0.0</td>\n",
       "      <td>0.0</td>\n",
       "      <td>0.0</td>\n",
       "      <td>0.0</td>\n",
       "      <td>0.0</td>\n",
       "      <td>0.0</td>\n",
       "      <td>0.0</td>\n",
       "      <td>0.0</td>\n",
       "      <td>0.0</td>\n",
       "      <td>...</td>\n",
       "      <td>0.0</td>\n",
       "      <td>0.0</td>\n",
       "      <td>0.0</td>\n",
       "      <td>0.0</td>\n",
       "      <td>0.0</td>\n",
       "      <td>0.0</td>\n",
       "      <td>0.0</td>\n",
       "      <td>0.0</td>\n",
       "      <td>0.0</td>\n",
       "      <td>0.0</td>\n",
       "    </tr>\n",
       "    <tr>\n",
       "      <th>21296</th>\n",
       "      <td>0.0</td>\n",
       "      <td>0.0</td>\n",
       "      <td>0.0</td>\n",
       "      <td>0.0</td>\n",
       "      <td>0.0</td>\n",
       "      <td>0.0</td>\n",
       "      <td>0.0</td>\n",
       "      <td>0.0</td>\n",
       "      <td>0.0</td>\n",
       "      <td>0.0</td>\n",
       "      <td>...</td>\n",
       "      <td>0.0</td>\n",
       "      <td>0.0</td>\n",
       "      <td>0.0</td>\n",
       "      <td>0.0</td>\n",
       "      <td>0.0</td>\n",
       "      <td>0.0</td>\n",
       "      <td>0.0</td>\n",
       "      <td>0.0</td>\n",
       "      <td>0.0</td>\n",
       "      <td>0.0</td>\n",
       "    </tr>\n",
       "  </tbody>\n",
       "</table>\n",
       "<p>5 rows × 44783 columns</p>\n",
       "</div>"
      ],
      "text/plain": [
       "user_id  \"Ferrari\")    #  #1dad  'Chelle  'Tree'  (usually)   -L    .   ..  \\\n",
       "item_id                                                                      \n",
       "6454            0.0  0.0    0.0      0.0     0.0        0.0  0.0  0.0  0.0   \n",
       "7443            0.0  0.0    0.0      0.0     0.0        0.0  0.0  0.0  0.0   \n",
       "11960           0.0  0.0    0.0      0.0     0.0        0.0  0.0  0.0  0.0   \n",
       "16411           0.0  0.0    0.0      0.0     0.0        0.0  0.0  0.0  0.0   \n",
       "21296           0.0  0.0    0.0      0.0     0.0        0.0  0.0  0.0  0.0   \n",
       "\n",
       "user_id  00erin  ...  zuel  zugai01  zulemaphone  zumbafitnesscarly  \\\n",
       "item_id          ...                                                  \n",
       "6454        0.0  ...   0.0      0.0          0.0                0.0   \n",
       "7443        0.0  ...   0.0      0.0          0.0                0.0   \n",
       "11960       0.0  ...   0.0      0.0          0.0                0.0   \n",
       "16411       0.0  ...   0.0      0.0          0.0                0.0   \n",
       "21296       0.0  ...   0.0      0.0          0.0                0.0   \n",
       "\n",
       "user_id  zumbaneko  zurajohnson  zuzu_zoom   🇦🇺    🐻    😊  \n",
       "item_id                                                    \n",
       "6454           0.0          0.0        0.0  0.0  0.0  0.0  \n",
       "7443           0.0          0.0        0.0  0.0  0.0  0.0  \n",
       "11960          0.0          0.0        0.0  0.0  0.0  0.0  \n",
       "16411          0.0          0.0        0.0  0.0  0.0  0.0  \n",
       "21296          0.0          0.0        0.0  0.0  0.0  0.0  \n",
       "\n",
       "[5 rows x 44783 columns]"
      ]
     },
     "execution_count": 11,
     "metadata": {},
     "output_type": "execute_result"
    }
   ],
   "source": [
    "# Checking the result of the pivot\n",
    "ratings_pivot.head()"
   ]
  },
  {
   "cell_type": "code",
   "execution_count": null,
   "id": "4459dd78",
   "metadata": {},
   "outputs": [],
   "source": [
    "# calculating the sparsity of the matrix\n",
    "# sparsity = np.isnan(0).sum/shape"
   ]
  },
  {
   "cell_type": "code",
   "execution_count": 12,
   "id": "2309b1e0",
   "metadata": {},
   "outputs": [],
   "source": [
    "# As we could have expected, the resulting dataframe is sparse with many customers\n",
    "# who never bought any product. This is why we are transforming the pivot table into\n",
    "# a scipy csr_matrix\n",
    "\n",
    "ratings_matrix = csr_matrix(ratings_pivot.values)"
   ]
  },
  {
   "cell_type": "code",
   "execution_count": 13,
   "id": "9b4ecf9d",
   "metadata": {},
   "outputs": [],
   "source": [
    "# split data into train and test\n",
    "train, test = train_test_split(ratings_matrix, test_size = 0.25, random_state = 0)"
   ]
  },
  {
   "cell_type": "code",
   "execution_count": 19,
   "id": "ab7af738",
   "metadata": {},
   "outputs": [],
   "source": [
    "recommender_knn = NearestNeighbors(metric='cosine', algorithm='brute', n_neighbors=20)\n",
    "recommender_knn.fit(train)\n",
    "pred = recommender_knn.kneighbors(test, return_distance = True)"
   ]
  },
  {
   "cell_type": "code",
   "execution_count": 33,
   "id": "3cac6144",
   "metadata": {},
   "outputs": [],
   "source": [
    "# Generating sample index to use for the recommendations\n",
    "query_index = np.random.choice(ratings_pivot.shape[0])"
   ]
  },
  {
   "cell_type": "code",
   "execution_count": 34,
   "id": "1f163ab7",
   "metadata": {},
   "outputs": [],
   "source": [
    "distances, indices = recommender_knn.kneighbors(ratings_pivot.iloc[query_index, :].values.reshape(1, -1), n_neighbors = 6)"
   ]
  },
  {
   "cell_type": "code",
   "execution_count": 35,
   "id": "c7503188",
   "metadata": {},
   "outputs": [
    {
     "name": "stdout",
     "output_type": "stream",
     "text": [
      "Recommendations for 153872:\n",
      "\n",
      "1: 27439, with distance of 0.7094596592420652:\n",
      "2: 129392, with distance of 0.7912244531993269:\n",
      "3: 24853, with distance of 0.8322789674325088:\n",
      "4: 143422, with distance of 0.8412306341162903:\n",
      "5: 152709, with distance of 0.8566835082312272:\n"
     ]
    }
   ],
   "source": [
    "for i in range(0, len(distances.flatten())):\n",
    "    if i == 0:\n",
    "        print('Recommendations for {0}:\\n'.format(ratings_pivot.index[query_index]))\n",
    "    else:\n",
    "        print('{0}: {1}, with distance of {2}:'.format(i, ratings_pivot.index[indices.flatten()[i]], distances.flatten()[i]))"
   ]
  },
  {
   "cell_type": "markdown",
   "id": "21c93805",
   "metadata": {},
   "source": [
    "Evaluation of the KNN model:\n",
    "- pros: \n",
    "    - Simple model not requiding any data other than historical ratings\n",
    "- Limitations: \n",
    "    - High dimension resulting from large number of users (vs items) which brings the issue of high dimensionality \n",
    "    - Sparse matrix (gray sheep problem) as most users have only rated few items\n",
    "    - Model suffers from the cold start problem: it can’t recommend items to new users\n",
    "    - Also, it is inclined to recommend popular items having many reviews which add biais in the mode. This also means that it will be difficult to recommend new products since they have no or few reviews\n",
    "\n",
    "For these reasons, we will try the matrix factorization which helps to correct high dimensionality issue."
   ]
  },
  {
   "cell_type": "markdown",
   "id": "3978868b",
   "metadata": {},
   "source": [
    "## Matrix Factorization"
   ]
  },
  {
   "cell_type": "code",
   "execution_count": 36,
   "id": "c3d24720",
   "metadata": {},
   "outputs": [],
   "source": [
    "# Grouping the dataframe to have the number of unique users\n",
    "data_grouped = data.groupby(['user_id', 'item_id']).size().groupby('user_id').size()"
   ]
  },
  {
   "cell_type": "code",
   "execution_count": 37,
   "id": "e95c46fd",
   "metadata": {},
   "outputs": [
    {
     "name": "stdout",
     "output_type": "stream",
     "text": [
      "Total number of users 44783\n",
      "Number of users with at least 10 ratings 6866\n"
     ]
    }
   ],
   "source": [
    "# Calculating the number of users with at least 3 reviews to include in the model\n",
    "# restricting analysis to users having at least 3 reviews will make the model more robust\n",
    "data_short = data_grouped[data_grouped >= 3].reset_index()[['user_id']]\n",
    "print('Total number of users {}'.format(len(data_grouped)))\n",
    "print('Number of users with at least 10 ratings {}'.format(len(data_short)))"
   ]
  },
  {
   "cell_type": "code",
   "execution_count": 38,
   "id": "84c029d3",
   "metadata": {},
   "outputs": [
    {
     "data": {
      "text/html": [
       "<div>\n",
       "<style scoped>\n",
       "    .dataframe tbody tr th:only-of-type {\n",
       "        vertical-align: middle;\n",
       "    }\n",
       "\n",
       "    .dataframe tbody tr th {\n",
       "        vertical-align: top;\n",
       "    }\n",
       "\n",
       "    .dataframe thead th {\n",
       "        text-align: right;\n",
       "    }\n",
       "</style>\n",
       "<table border=\"1\" class=\"dataframe\">\n",
       "  <thead>\n",
       "    <tr style=\"text-align: right;\">\n",
       "      <th></th>\n",
       "      <th>item_id</th>\n",
       "      <th>user_id</th>\n",
       "      <th>rating</th>\n",
       "    </tr>\n",
       "  </thead>\n",
       "  <tbody>\n",
       "    <tr>\n",
       "      <th>0</th>\n",
       "      <td>105202</td>\n",
       "      <td>19lovelikecrazy95</td>\n",
       "      <td>5</td>\n",
       "    </tr>\n",
       "    <tr>\n",
       "      <th>1</th>\n",
       "      <td>57369</td>\n",
       "      <td>19lovelikecrazy95</td>\n",
       "      <td>4</td>\n",
       "    </tr>\n",
       "    <tr>\n",
       "      <th>2</th>\n",
       "      <td>118317</td>\n",
       "      <td>19lovelikecrazy95</td>\n",
       "      <td>3</td>\n",
       "    </tr>\n",
       "    <tr>\n",
       "      <th>3</th>\n",
       "      <td>32406</td>\n",
       "      <td>1dianaoliver</td>\n",
       "      <td>3</td>\n",
       "    </tr>\n",
       "    <tr>\n",
       "      <th>4</th>\n",
       "      <td>116313</td>\n",
       "      <td>1dianaoliver</td>\n",
       "      <td>1</td>\n",
       "    </tr>\n",
       "  </tbody>\n",
       "</table>\n",
       "</div>"
      ],
      "text/plain": [
       "   item_id            user_id  rating\n",
       "0   105202  19lovelikecrazy95       5\n",
       "1    57369  19lovelikecrazy95       4\n",
       "2   118317  19lovelikecrazy95       3\n",
       "3    32406       1dianaoliver       3\n",
       "4   116313       1dianaoliver       1"
      ]
     },
     "execution_count": 38,
     "metadata": {},
     "output_type": "execute_result"
    }
   ],
   "source": [
    "# merging data_short and the data to have a final dataset ready for modelling\n",
    "selection = data.merge(data_short, how = 'right',left_on = 'user_id', right_on = 'user_id')\n",
    "selection.head()"
   ]
  },
  {
   "cell_type": "code",
   "execution_count": 39,
   "id": "ed97e9da",
   "metadata": {},
   "outputs": [
    {
     "name": "stdout",
     "output_type": "stream",
     "text": [
      "Total number of interactions: 99892\n",
      "Total number of interactions from users with at least 3 reviews: 54365\n"
     ]
    }
   ],
   "source": [
    "print('Total number of interactions: {}'.format(len(data)))\n",
    "print('Total number of interactions from users with at least 3 reviews: {}'.format(len(selection)))"
   ]
  },
  {
   "cell_type": "markdown",
   "id": "53223292",
   "metadata": {},
   "source": [
    "#### Split data into train and test sets"
   ]
  },
  {
   "cell_type": "code",
   "execution_count": 40,
   "id": "11b251f1",
   "metadata": {},
   "outputs": [
    {
     "name": "stdout",
     "output_type": "stream",
     "text": [
      "train size = 43492\n",
      "test size = 10873\n"
     ]
    }
   ],
   "source": [
    "train, test = train_test_split(selection, stratify = selection['user_id'],\n",
    "                              test_size = 0.2, random_state = 42)\n",
    "\n",
    "print('train size = {}'.format(len(train)))\n",
    "print('test size = {}'.format(len(test)))"
   ]
  },
  {
   "cell_type": "code",
   "execution_count": 41,
   "id": "99821aa2",
   "metadata": {},
   "outputs": [],
   "source": [
    "# creating a sparse matrix\n",
    "rating_pivot = train.pivot(index = 'user_id', \n",
    "                          columns = 'item_id', \n",
    "                          values = 'rating').fillna(0)"
   ]
  },
  {
   "cell_type": "code",
   "execution_count": 42,
   "id": "3e422b64",
   "metadata": {},
   "outputs": [
    {
     "data": {
      "text/html": [
       "<div>\n",
       "<style scoped>\n",
       "    .dataframe tbody tr th:only-of-type {\n",
       "        vertical-align: middle;\n",
       "    }\n",
       "\n",
       "    .dataframe tbody tr th {\n",
       "        vertical-align: top;\n",
       "    }\n",
       "\n",
       "    .dataframe thead th {\n",
       "        text-align: right;\n",
       "    }\n",
       "</style>\n",
       "<table border=\"1\" class=\"dataframe\">\n",
       "  <thead>\n",
       "    <tr style=\"text-align: right;\">\n",
       "      <th>item_id</th>\n",
       "      <th>6454</th>\n",
       "      <th>7443</th>\n",
       "      <th>11960</th>\n",
       "      <th>16411</th>\n",
       "      <th>21296</th>\n",
       "      <th>22563</th>\n",
       "      <th>24853</th>\n",
       "      <th>27439</th>\n",
       "      <th>27590</th>\n",
       "      <th>28252</th>\n",
       "      <th>...</th>\n",
       "      <th>155090</th>\n",
       "      <th>155165</th>\n",
       "      <th>155293</th>\n",
       "      <th>155305</th>\n",
       "      <th>155307</th>\n",
       "      <th>155308</th>\n",
       "      <th>155317</th>\n",
       "      <th>155537</th>\n",
       "      <th>155597</th>\n",
       "      <th>155950</th>\n",
       "    </tr>\n",
       "    <tr>\n",
       "      <th>user_id</th>\n",
       "      <th></th>\n",
       "      <th></th>\n",
       "      <th></th>\n",
       "      <th></th>\n",
       "      <th></th>\n",
       "      <th></th>\n",
       "      <th></th>\n",
       "      <th></th>\n",
       "      <th></th>\n",
       "      <th></th>\n",
       "      <th></th>\n",
       "      <th></th>\n",
       "      <th></th>\n",
       "      <th></th>\n",
       "      <th></th>\n",
       "      <th></th>\n",
       "      <th></th>\n",
       "      <th></th>\n",
       "      <th></th>\n",
       "      <th></th>\n",
       "      <th></th>\n",
       "    </tr>\n",
       "  </thead>\n",
       "  <tbody>\n",
       "    <tr>\n",
       "      <th>19lovelikecrazy95</th>\n",
       "      <td>0.0</td>\n",
       "      <td>0.0</td>\n",
       "      <td>0.0</td>\n",
       "      <td>0.0</td>\n",
       "      <td>0.0</td>\n",
       "      <td>0.0</td>\n",
       "      <td>0.0</td>\n",
       "      <td>0.0</td>\n",
       "      <td>0.0</td>\n",
       "      <td>0.0</td>\n",
       "      <td>...</td>\n",
       "      <td>0.0</td>\n",
       "      <td>0.0</td>\n",
       "      <td>0.0</td>\n",
       "      <td>0.0</td>\n",
       "      <td>0.0</td>\n",
       "      <td>0.0</td>\n",
       "      <td>0.0</td>\n",
       "      <td>0.0</td>\n",
       "      <td>0.0</td>\n",
       "      <td>0.0</td>\n",
       "    </tr>\n",
       "    <tr>\n",
       "      <th>1dianaoliver</th>\n",
       "      <td>0.0</td>\n",
       "      <td>0.0</td>\n",
       "      <td>0.0</td>\n",
       "      <td>0.0</td>\n",
       "      <td>0.0</td>\n",
       "      <td>0.0</td>\n",
       "      <td>0.0</td>\n",
       "      <td>0.0</td>\n",
       "      <td>0.0</td>\n",
       "      <td>0.0</td>\n",
       "      <td>...</td>\n",
       "      <td>0.0</td>\n",
       "      <td>0.0</td>\n",
       "      <td>0.0</td>\n",
       "      <td>0.0</td>\n",
       "      <td>0.0</td>\n",
       "      <td>0.0</td>\n",
       "      <td>0.0</td>\n",
       "      <td>0.0</td>\n",
       "      <td>0.0</td>\n",
       "      <td>0.0</td>\n",
       "    </tr>\n",
       "    <tr>\n",
       "      <th>3chuckleheads</th>\n",
       "      <td>0.0</td>\n",
       "      <td>0.0</td>\n",
       "      <td>0.0</td>\n",
       "      <td>0.0</td>\n",
       "      <td>4.0</td>\n",
       "      <td>0.0</td>\n",
       "      <td>0.0</td>\n",
       "      <td>0.0</td>\n",
       "      <td>0.0</td>\n",
       "      <td>0.0</td>\n",
       "      <td>...</td>\n",
       "      <td>0.0</td>\n",
       "      <td>0.0</td>\n",
       "      <td>0.0</td>\n",
       "      <td>0.0</td>\n",
       "      <td>0.0</td>\n",
       "      <td>0.0</td>\n",
       "      <td>0.0</td>\n",
       "      <td>0.0</td>\n",
       "      <td>0.0</td>\n",
       "      <td>0.0</td>\n",
       "    </tr>\n",
       "    <tr>\n",
       "      <th>4jess</th>\n",
       "      <td>0.0</td>\n",
       "      <td>0.0</td>\n",
       "      <td>0.0</td>\n",
       "      <td>0.0</td>\n",
       "      <td>0.0</td>\n",
       "      <td>0.0</td>\n",
       "      <td>0.0</td>\n",
       "      <td>0.0</td>\n",
       "      <td>0.0</td>\n",
       "      <td>0.0</td>\n",
       "      <td>...</td>\n",
       "      <td>0.0</td>\n",
       "      <td>0.0</td>\n",
       "      <td>0.0</td>\n",
       "      <td>0.0</td>\n",
       "      <td>0.0</td>\n",
       "      <td>0.0</td>\n",
       "      <td>0.0</td>\n",
       "      <td>0.0</td>\n",
       "      <td>0.0</td>\n",
       "      <td>0.0</td>\n",
       "    </tr>\n",
       "    <tr>\n",
       "      <th>7578042</th>\n",
       "      <td>0.0</td>\n",
       "      <td>0.0</td>\n",
       "      <td>0.0</td>\n",
       "      <td>0.0</td>\n",
       "      <td>0.0</td>\n",
       "      <td>0.0</td>\n",
       "      <td>3.0</td>\n",
       "      <td>0.0</td>\n",
       "      <td>0.0</td>\n",
       "      <td>0.0</td>\n",
       "      <td>...</td>\n",
       "      <td>0.0</td>\n",
       "      <td>0.0</td>\n",
       "      <td>0.0</td>\n",
       "      <td>0.0</td>\n",
       "      <td>0.0</td>\n",
       "      <td>0.0</td>\n",
       "      <td>0.0</td>\n",
       "      <td>0.0</td>\n",
       "      <td>0.0</td>\n",
       "      <td>0.0</td>\n",
       "    </tr>\n",
       "  </tbody>\n",
       "</table>\n",
       "<p>5 rows × 1007 columns</p>\n",
       "</div>"
      ],
      "text/plain": [
       "item_id            6454    7443    11960   16411   21296   22563   24853   \\\n",
       "user_id                                                                     \n",
       "19lovelikecrazy95     0.0     0.0     0.0     0.0     0.0     0.0     0.0   \n",
       "1dianaoliver          0.0     0.0     0.0     0.0     0.0     0.0     0.0   \n",
       "3chuckleheads         0.0     0.0     0.0     0.0     4.0     0.0     0.0   \n",
       "4jess                 0.0     0.0     0.0     0.0     0.0     0.0     0.0   \n",
       "7578042               0.0     0.0     0.0     0.0     0.0     0.0     3.0   \n",
       "\n",
       "item_id            27439   27590   28252   ...  155090  155165  155293  \\\n",
       "user_id                                    ...                           \n",
       "19lovelikecrazy95     0.0     0.0     0.0  ...     0.0     0.0     0.0   \n",
       "1dianaoliver          0.0     0.0     0.0  ...     0.0     0.0     0.0   \n",
       "3chuckleheads         0.0     0.0     0.0  ...     0.0     0.0     0.0   \n",
       "4jess                 0.0     0.0     0.0  ...     0.0     0.0     0.0   \n",
       "7578042               0.0     0.0     0.0  ...     0.0     0.0     0.0   \n",
       "\n",
       "item_id            155305  155307  155308  155317  155537  155597  155950  \n",
       "user_id                                                                    \n",
       "19lovelikecrazy95     0.0     0.0     0.0     0.0     0.0     0.0     0.0  \n",
       "1dianaoliver          0.0     0.0     0.0     0.0     0.0     0.0     0.0  \n",
       "3chuckleheads         0.0     0.0     0.0     0.0     0.0     0.0     0.0  \n",
       "4jess                 0.0     0.0     0.0     0.0     0.0     0.0     0.0  \n",
       "7578042               0.0     0.0     0.0     0.0     0.0     0.0     0.0  \n",
       "\n",
       "[5 rows x 1007 columns]"
      ]
     },
     "execution_count": 42,
     "metadata": {},
     "output_type": "execute_result"
    }
   ],
   "source": [
    "rating_pivot.head()"
   ]
  },
  {
   "cell_type": "code",
   "execution_count": null,
   "id": "d7b3e0b8",
   "metadata": {},
   "outputs": [],
   "source": []
  },
  {
   "cell_type": "code",
   "execution_count": 43,
   "id": "b2789438",
   "metadata": {},
   "outputs": [],
   "source": [
    "# reducting dimensionality of the sparse matrix\n",
    "rating_matrix = rating_pivot.to_numpy()\n",
    "rating_csr_matrix = csr_matrix(rating_matrix)"
   ]
  },
  {
   "cell_type": "code",
   "execution_count": 46,
   "id": "f558ee9f",
   "metadata": {},
   "outputs": [],
   "source": [
    "U, sigma, Vt = svds(rating_csr_matrix, k = 15)"
   ]
  },
  {
   "cell_type": "code",
   "execution_count": 47,
   "id": "8e0d0780",
   "metadata": {},
   "outputs": [
    {
     "data": {
      "text/plain": [
       "((6866, 15), (15,), (15, 1007))"
      ]
     },
     "execution_count": 47,
     "metadata": {},
     "output_type": "execute_result"
    }
   ],
   "source": [
    "U.shape, sigma.shape, Vt.shape"
   ]
  },
  {
   "cell_type": "code",
   "execution_count": 49,
   "id": "56512e5d",
   "metadata": {},
   "outputs": [
    {
     "data": {
      "text/plain": [
       "(15, 15)"
      ]
     },
     "execution_count": 49,
     "metadata": {},
     "output_type": "execute_result"
    }
   ],
   "source": [
    "sigma = np.diag(sigma)\n",
    "sigma.shape"
   ]
  },
  {
   "cell_type": "code",
   "execution_count": 50,
   "id": "c71f876f",
   "metadata": {},
   "outputs": [
    {
     "data": {
      "text/plain": [
       "array([[ 2.75192563e-04,  1.78305106e-01,  1.65969500e-01, ...,\n",
       "        -5.95479371e-03, -6.72155157e-04, -2.80975475e-05],\n",
       "       [-2.46172277e-03,  1.18905471e-01,  4.17804844e-02, ...,\n",
       "        -5.72085963e-03, -4.22946042e-04,  1.89071601e-02],\n",
       "       [ 4.93324727e-02,  1.63123000e-01, -9.94252603e-02, ...,\n",
       "        -4.66037631e-03,  5.96405671e-04, -1.01144399e-02],\n",
       "       ...,\n",
       "       [ 1.36364624e-03, -1.63094334e-03, -6.01779358e-05, ...,\n",
       "         4.23475113e-04,  2.71693816e-05,  3.32806537e-04],\n",
       "       [ 1.11944561e-01,  3.70358557e-02,  1.67525901e-01, ...,\n",
       "         3.81931126e-02, -8.16698957e-04,  3.78808114e-02],\n",
       "       [ 3.22600405e-02,  4.10092366e-02,  4.55589574e-02, ...,\n",
       "         1.25956345e-02, -6.79596620e-05,  1.26729309e-02]])"
      ]
     },
     "execution_count": 50,
     "metadata": {},
     "output_type": "execute_result"
    }
   ],
   "source": [
    "# making predictions\n",
    "predicted_rating = np.dot(np.dot(U, sigma), Vt)\n",
    "predicted_rating"
   ]
  },
  {
   "cell_type": "code",
   "execution_count": 51,
   "id": "09392c45",
   "metadata": {},
   "outputs": [],
   "source": [
    "# Normalizing data\n",
    "predicted_rating_norm = (predicted_rating - predicted_rating.min()) / (predicted_rating.max() - predicted_rating.min())"
   ]
  },
  {
   "cell_type": "code",
   "execution_count": 52,
   "id": "99f825f5",
   "metadata": {},
   "outputs": [],
   "source": [
    "users_ids = list(rating_pivot.index)"
   ]
  },
  {
   "cell_type": "code",
   "execution_count": 53,
   "id": "5b336823",
   "metadata": {},
   "outputs": [],
   "source": [
    "predicted_rating_df = pd.DataFrame(predicted_rating_norm, columns = rating_pivot.columns,\n",
    "                                  index = users_ids).transpose()"
   ]
  },
  {
   "cell_type": "code",
   "execution_count": 54,
   "id": "3cf61a55",
   "metadata": {},
   "outputs": [
    {
     "data": {
      "text/html": [
       "<div>\n",
       "<style scoped>\n",
       "    .dataframe tbody tr th:only-of-type {\n",
       "        vertical-align: middle;\n",
       "    }\n",
       "\n",
       "    .dataframe tbody tr th {\n",
       "        vertical-align: top;\n",
       "    }\n",
       "\n",
       "    .dataframe thead th {\n",
       "        text-align: right;\n",
       "    }\n",
       "</style>\n",
       "<table border=\"1\" class=\"dataframe\">\n",
       "  <thead>\n",
       "    <tr style=\"text-align: right;\">\n",
       "      <th></th>\n",
       "      <th>item_id</th>\n",
       "      <th>level_1</th>\n",
       "      <th>0</th>\n",
       "    </tr>\n",
       "  </thead>\n",
       "  <tbody>\n",
       "    <tr>\n",
       "      <th>0</th>\n",
       "      <td>6454</td>\n",
       "      <td>19lovelikecrazy95</td>\n",
       "      <td>0.317101</td>\n",
       "    </tr>\n",
       "    <tr>\n",
       "      <th>1</th>\n",
       "      <td>6454</td>\n",
       "      <td>1dianaoliver</td>\n",
       "      <td>0.316887</td>\n",
       "    </tr>\n",
       "    <tr>\n",
       "      <th>2</th>\n",
       "      <td>6454</td>\n",
       "      <td>3chuckleheads</td>\n",
       "      <td>0.320944</td>\n",
       "    </tr>\n",
       "    <tr>\n",
       "      <th>3</th>\n",
       "      <td>6454</td>\n",
       "      <td>4jess</td>\n",
       "      <td>0.317150</td>\n",
       "    </tr>\n",
       "    <tr>\n",
       "      <th>4</th>\n",
       "      <td>6454</td>\n",
       "      <td>7578042</td>\n",
       "      <td>0.317925</td>\n",
       "    </tr>\n",
       "  </tbody>\n",
       "</table>\n",
       "</div>"
      ],
      "text/plain": [
       "   item_id            level_1         0\n",
       "0     6454  19lovelikecrazy95  0.317101\n",
       "1     6454       1dianaoliver  0.316887\n",
       "2     6454      3chuckleheads  0.320944\n",
       "3     6454              4jess  0.317150\n",
       "4     6454            7578042  0.317925"
      ]
     },
     "execution_count": 54,
     "metadata": {},
     "output_type": "execute_result"
    }
   ],
   "source": [
    "predictions_df = predicted_rating_df.stack().reset_index()\n",
    "predictions_df.head()"
   ]
  },
  {
   "cell_type": "code",
   "execution_count": 64,
   "id": "3b947669",
   "metadata": {},
   "outputs": [],
   "source": [
    "predictions_df.rename(columns = {'item_id': 'item_id', \n",
    "                                                  'level_1': 'user_id',\n",
    "                                                 0: 'est_rating'}, inplace = True)"
   ]
  },
  {
   "cell_type": "code",
   "execution_count": 67,
   "id": "96914033",
   "metadata": {},
   "outputs": [
    {
     "data": {
      "text/plain": [
       "((6914062, 3), (6866, 1007))"
      ]
     },
     "execution_count": 67,
     "metadata": {},
     "output_type": "execute_result"
    }
   ],
   "source": [
    "# checking the shape of predictions and ground thruth prior to calculating the error\n",
    "predictions_df.shape, rating_matrix.shape"
   ]
  },
  {
   "cell_type": "code",
   "execution_count": 72,
   "id": "ba4b36fb",
   "metadata": {},
   "outputs": [
    {
     "data": {
      "text/plain": [
       "15.93694047432965"
      ]
     },
     "execution_count": 72,
     "metadata": {},
     "output_type": "execute_result"
    }
   ],
   "source": [
    "# calculating error for the first 1000 entires\n",
    "rmse = mean_squared_error(data.rating.iloc[:1000], predictions_df.est_rating.iloc[:1000])\n",
    "rmse"
   ]
  },
  {
   "cell_type": "markdown",
   "id": "185e40d1",
   "metadata": {},
   "source": [
    "**KNN Model Evaluation**\n",
    "- Benefits: \n",
    "    - Easy to implement\n",
    " - Weaknesses: \n",
    "    - High dimension due to large number of data resulting in lower performance \n",
    "    - Is more inclined to recommend popular products which means negative bias for new products with products with few reviews\n",
    "    - Also suffer from sparsity resulting from low number of users/items interactions (gray ship pproblem)\n",
    "\n",
    "**MATRIX FACTORIZATION Model Evaluation**\n",
    "- Benefits:\n",
    "    - MF offers a better alternative to KNN by solving the dimensionality issue by converting the matrix into a dense object resulting in a RMSE score of 15 which is not a great performance. \n",
    "    - The cold start issue is still not adressed\n",
    "\n",
    "\n",
    "In the next part, we will try to improve the RMSE score using the surprise library for collaborative filtering"
   ]
  }
 ],
 "metadata": {
  "kernelspec": {
   "display_name": "Python 3",
   "language": "python",
   "name": "python3"
  },
  "language_info": {
   "codemirror_mode": {
    "name": "ipython",
    "version": 3
   },
   "file_extension": ".py",
   "mimetype": "text/x-python",
   "name": "python",
   "nbconvert_exporter": "python",
   "pygments_lexer": "ipython3",
   "version": "3.7.7"
  }
 },
 "nbformat": 4,
 "nbformat_minor": 5
}
