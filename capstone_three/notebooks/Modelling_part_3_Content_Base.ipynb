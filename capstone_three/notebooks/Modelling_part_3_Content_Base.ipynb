{
 "cells": [
  {
   "cell_type": "markdown",
   "id": "30ceea8f",
   "metadata": {},
   "source": [
    "## E-COMMERCE RECOMMENDER SYSTEM"
   ]
  },
  {
   "cell_type": "markdown",
   "id": "d0224080",
   "metadata": {},
   "source": [
    "## MODELLING: Part 3 (Content based)"
   ]
  },
  {
   "cell_type": "markdown",
   "id": "95ffab57",
   "metadata": {},
   "source": [
    "The objective of this notebook is to develop a content base approach using items features to solve the cold start issue that wasnt adressed by the previous models.\n",
    "We will assume the most important features that can be personalized are category (dresses, sweatpants...ect), model_attr and size. We will focus on these.\n",
    "Items similarity will be measured using their cosine distance"
   ]
  },
  {
   "cell_type": "markdown",
   "id": "10b5f85b",
   "metadata": {},
   "source": [
    "### Imports"
   ]
  },
  {
   "cell_type": "code",
   "execution_count": 1,
   "id": "cdf34fcc",
   "metadata": {},
   "outputs": [],
   "source": [
    "import pandas as pd\n",
    "import numpy as np\n",
    "import matplotlib.pyplot as plt\n",
    "import seaborn as sns\n",
    "from sklearn.metrics.pairwise import cosine_similarity\n",
    "from sklearn.feature_extraction.text import TfidfVectorizer"
   ]
  },
  {
   "cell_type": "code",
   "execution_count": 2,
   "id": "b78c80b0",
   "metadata": {},
   "outputs": [],
   "source": [
    "raw_data = pd.read_csv('/Users/judith/Data_science_projects/Springboard_AssignmentsJY/capstone_three/data/processed/features.csv')"
   ]
  },
  {
   "cell_type": "code",
   "execution_count": 3,
   "id": "d874e1bd",
   "metadata": {},
   "outputs": [],
   "source": [
    "ratings = pd.read_csv('/Users/judith/Data_science_projects/Springboard_AssignmentsJY/capstone_three/data/processed/ratings.csv')"
   ]
  },
  {
   "cell_type": "code",
   "execution_count": 4,
   "id": "d6b4533c",
   "metadata": {},
   "outputs": [
    {
     "data": {
      "text/plain": [
       "(99892, 9)"
      ]
     },
     "execution_count": 4,
     "metadata": {},
     "output_type": "execute_result"
    }
   ],
   "source": [
    "raw_data['item_id'] = ratings['item_id']\n",
    "raw_data['user_id'] = ratings['user_id']\n",
    "raw_data.shape"
   ]
  },
  {
   "cell_type": "code",
   "execution_count": 5,
   "id": "e2383b0d",
   "metadata": {},
   "outputs": [
    {
     "data": {
      "text/plain": [
       "(1020, 9)"
      ]
     },
     "execution_count": 5,
     "metadata": {},
     "output_type": "execute_result"
    }
   ],
   "source": [
    "data = raw_data.drop_duplicates(subset = ['item_id'], keep = 'first')\n",
    "data.shape"
   ]
  },
  {
   "cell_type": "markdown",
   "id": "c545374e",
   "metadata": {},
   "source": [
    "## Extracting features of importance"
   ]
  },
  {
   "cell_type": "code",
   "execution_count": 6,
   "id": "9af1e7f4",
   "metadata": {},
   "outputs": [
    {
     "name": "stderr",
     "output_type": "stream",
     "text": [
      "/Users/judith/opt/anaconda3/lib/python3.7/site-packages/ipykernel_launcher.py:3: SettingWithCopyWarning: \n",
      "A value is trying to be set on a copy of a slice from a DataFrame.\n",
      "Try using .loc[row_indexer,col_indexer] = value instead\n",
      "\n",
      "See the caveats in the documentation: https://pandas.pydata.org/pandas-docs/stable/user_guide/indexing.html#returning-a-view-versus-a-copy\n",
      "  This is separate from the ipykernel package so we can avoid doing imports until\n"
     ]
    }
   ],
   "source": [
    "# Here we are creating a new column that will aggregate the text from the 3 features\n",
    "# columns that we are interested in\n",
    "data['aggr'] = data['size'].map(str) + ' '+ data['model_attr'].map(str) + ' '+ data['category'].map(str)"
   ]
  },
  {
   "cell_type": "code",
   "execution_count": 7,
   "id": "46fd8427",
   "metadata": {},
   "outputs": [
    {
     "data": {
      "text/html": [
       "<div>\n",
       "<style scoped>\n",
       "    .dataframe tbody tr th:only-of-type {\n",
       "        vertical-align: middle;\n",
       "    }\n",
       "\n",
       "    .dataframe tbody tr th {\n",
       "        vertical-align: top;\n",
       "    }\n",
       "\n",
       "    .dataframe thead th {\n",
       "        text-align: right;\n",
       "    }\n",
       "</style>\n",
       "<table border=\"1\" class=\"dataframe\">\n",
       "  <thead>\n",
       "    <tr style=\"text-align: right;\">\n",
       "      <th></th>\n",
       "      <th>size</th>\n",
       "      <th>fit</th>\n",
       "      <th>user_attr</th>\n",
       "      <th>model_attr</th>\n",
       "      <th>category</th>\n",
       "      <th>year</th>\n",
       "      <th>split</th>\n",
       "      <th>item_id</th>\n",
       "      <th>user_id</th>\n",
       "      <th>aggr</th>\n",
       "    </tr>\n",
       "  </thead>\n",
       "  <tbody>\n",
       "    <tr>\n",
       "      <th>0</th>\n",
       "      <td>2.0</td>\n",
       "      <td>Just right</td>\n",
       "      <td>Small</td>\n",
       "      <td>Small</td>\n",
       "      <td>Dresses</td>\n",
       "      <td>2012</td>\n",
       "      <td>0</td>\n",
       "      <td>7443</td>\n",
       "      <td>Alex</td>\n",
       "      <td>2.0 Small Dresses</td>\n",
       "    </tr>\n",
       "    <tr>\n",
       "      <th>11</th>\n",
       "      <td>2.0</td>\n",
       "      <td>Just right</td>\n",
       "      <td>Small</td>\n",
       "      <td>Small&amp;Large</td>\n",
       "      <td>Outerwear</td>\n",
       "      <td>2010</td>\n",
       "      <td>0</td>\n",
       "      <td>11960</td>\n",
       "      <td>bcornwell</td>\n",
       "      <td>2.0 Small&amp;Large Outerwear</td>\n",
       "    </tr>\n",
       "    <tr>\n",
       "      <th>50</th>\n",
       "      <td>2.0</td>\n",
       "      <td>Just right</td>\n",
       "      <td>Small</td>\n",
       "      <td>Small</td>\n",
       "      <td>Dresses</td>\n",
       "      <td>2011</td>\n",
       "      <td>0</td>\n",
       "      <td>16411</td>\n",
       "      <td>Candice</td>\n",
       "      <td>2.0 Small Dresses</td>\n",
       "    </tr>\n",
       "    <tr>\n",
       "      <th>280</th>\n",
       "      <td>2.0</td>\n",
       "      <td>Just right</td>\n",
       "      <td>Small</td>\n",
       "      <td>Small</td>\n",
       "      <td>Bottoms</td>\n",
       "      <td>2013</td>\n",
       "      <td>1</td>\n",
       "      <td>21296</td>\n",
       "      <td>Petra</td>\n",
       "      <td>2.0 Small Bottoms</td>\n",
       "    </tr>\n",
       "    <tr>\n",
       "      <th>290</th>\n",
       "      <td>2.0</td>\n",
       "      <td>Slightly large</td>\n",
       "      <td>Small</td>\n",
       "      <td>Small</td>\n",
       "      <td>Tops</td>\n",
       "      <td>2014</td>\n",
       "      <td>0</td>\n",
       "      <td>22563</td>\n",
       "      <td>lexaplex</td>\n",
       "      <td>2.0 Small Tops</td>\n",
       "    </tr>\n",
       "  </tbody>\n",
       "</table>\n",
       "</div>"
      ],
      "text/plain": [
       "     size             fit user_attr   model_attr   category  year  split  \\\n",
       "0     2.0      Just right     Small        Small    Dresses  2012      0   \n",
       "11    2.0      Just right     Small  Small&Large  Outerwear  2010      0   \n",
       "50    2.0      Just right     Small        Small    Dresses  2011      0   \n",
       "280   2.0      Just right     Small        Small    Bottoms  2013      1   \n",
       "290   2.0  Slightly large     Small        Small       Tops  2014      0   \n",
       "\n",
       "     item_id    user_id                       aggr  \n",
       "0       7443       Alex          2.0 Small Dresses  \n",
       "11     11960  bcornwell  2.0 Small&Large Outerwear  \n",
       "50     16411    Candice          2.0 Small Dresses  \n",
       "280    21296      Petra          2.0 Small Bottoms  \n",
       "290    22563   lexaplex             2.0 Small Tops  "
      ]
     },
     "execution_count": 7,
     "metadata": {},
     "output_type": "execute_result"
    }
   ],
   "source": [
    "data.head()"
   ]
  },
  {
   "cell_type": "markdown",
   "id": "9dc51bcf",
   "metadata": {},
   "source": [
    "## Modelling"
   ]
  },
  {
   "cell_type": "code",
   "execution_count": 8,
   "id": "9224f5b1",
   "metadata": {},
   "outputs": [],
   "source": [
    "# Instantiating the vectorizer and fitting the text\n",
    "vect = TfidfVectorizer()\n",
    "matrix = vect.fit_transform(data['aggr'])"
   ]
  },
  {
   "cell_type": "code",
   "execution_count": 9,
   "id": "c693a0a1",
   "metadata": {},
   "outputs": [
    {
     "name": "stdout",
     "output_type": "stream",
     "text": [
      "['bottoms', 'dresses', 'large', 'outerwear', 'small', 'tops']\n"
     ]
    }
   ],
   "source": [
    "# printing the features that will go into our matrix\n",
    "print(vect.get_feature_names())"
   ]
  },
  {
   "cell_type": "code",
   "execution_count": 10,
   "id": "a3463b4e",
   "metadata": {},
   "outputs": [],
   "source": [
    "# calculating the similarity\n",
    "cosine_sim = cosine_similarity(matrix ,matrix)"
   ]
  },
  {
   "cell_type": "code",
   "execution_count": 11,
   "id": "3dd294f8",
   "metadata": {},
   "outputs": [
    {
     "data": {
      "text/plain": [
       "item_id\n",
       "7443          0\n",
       "11960        11\n",
       "16411        50\n",
       "21296       280\n",
       "22563       290\n",
       "          ...  \n",
       "153853    82082\n",
       "153866    82317\n",
       "149062    85272\n",
       "54062     95190\n",
       "153228    97944\n",
       "Length: 1020, dtype: int64"
      ]
     },
     "execution_count": 11,
     "metadata": {},
     "output_type": "execute_result"
    }
   ],
   "source": [
    "indices = pd.Series(data.index, index=data['item_id'])\n",
    "indices"
   ]
  },
  {
   "cell_type": "code",
   "execution_count": 12,
   "id": "e12fb696",
   "metadata": {},
   "outputs": [],
   "source": [
    "# Defining a function to get the top recommendations for an item based on \n",
    "# similarities with others items\n",
    "\n",
    "def recommend_items(item_id, cosine_sim):\n",
    "    index = indices[item_id]\n",
    "    sim_scores = list(enumerate(cosine_sim[index]))\n",
    "    sim_scores = sorted(sim_scores, key = lambda x: x[1], reverse = True)\n",
    "    sim_scores = sim_scores[:16]\n",
    "    item_indexes = [i[0] for i in sim_scores]\n",
    "    return data['item_id'].iloc[item_indexes]"
   ]
  },
  {
   "cell_type": "code",
   "execution_count": 13,
   "id": "79d6be47",
   "metadata": {},
   "outputs": [
    {
     "data": {
      "text/plain": [
       "290       22563\n",
       "319       24853\n",
       "2135      47397\n",
       "4058      67022\n",
       "4798      67507\n",
       "4844      70230\n",
       "4973      71434\n",
       "6441      78227\n",
       "8937      84436\n",
       "13744    108260\n",
       "16388    113643\n",
       "20836    116736\n",
       "21870    117620\n",
       "26581    122266\n",
       "34975    128359\n",
       "36565    129267\n",
       "Name: item_id, dtype: int64"
      ]
     },
     "execution_count": 13,
     "metadata": {},
     "output_type": "execute_result"
    }
   ],
   "source": [
    "# checking a sample recommendation\n",
    "recommend_items(16411, cosine_sim)"
   ]
  },
  {
   "cell_type": "code",
   "execution_count": 14,
   "id": "ca0f3fc9",
   "metadata": {},
   "outputs": [],
   "source": [
    "data.to_csv(r'/Users/judith/Data_science_projects/Springboard_AssignmentsJY/capstone_three/data/processed/content_base_features.csv', index=False)"
   ]
  },
  {
   "cell_type": "markdown",
   "id": "834d6ddf",
   "metadata": {},
   "source": [
    "The content based approach gives us the expected results and complement nicely the collaborative approach. We can run both algorithms in parralel and use both recommendations to show suggestions for both returning customers and new customers or new products."
   ]
  }
 ],
 "metadata": {
  "kernelspec": {
   "display_name": "Python 3",
   "language": "python",
   "name": "python3"
  },
  "language_info": {
   "codemirror_mode": {
    "name": "ipython",
    "version": 3
   },
   "file_extension": ".py",
   "mimetype": "text/x-python",
   "name": "python",
   "nbconvert_exporter": "python",
   "pygments_lexer": "ipython3",
   "version": "3.7.7"
  }
 },
 "nbformat": 4,
 "nbformat_minor": 5
}
