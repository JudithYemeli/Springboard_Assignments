{
 "cells": [
  {
   "cell_type": "markdown",
   "id": "b3b52f7b",
   "metadata": {},
   "source": [
    "## E- COMMERCE RECOMMENDER SYSTEM"
   ]
  },
  {
   "cell_type": "markdown",
   "id": "5c530289",
   "metadata": {},
   "source": [
    "## Data Wrangling and EDA"
   ]
  },
  {
   "cell_type": "markdown",
   "id": "bbb5a418",
   "metadata": {},
   "source": [
    "The objective of this notebook is to inspect, explore and clean the raw dataset in order to come up with a processed data frame that will feed into the modelling step"
   ]
  },
  {
   "cell_type": "markdown",
   "id": "561ad7e8",
   "metadata": {},
   "source": [
    "## import"
   ]
  },
  {
   "cell_type": "code",
   "execution_count": 1,
   "id": "d3b6b228",
   "metadata": {},
   "outputs": [],
   "source": [
    "import pandas as pd\n",
    "import numpy as np\n",
    "import matplotlib.pyplot as plt\n",
    "import seaborn as sns\n",
    "from sklearn.impute import KNNImputer\n",
    "from sklearn.preprocessing import MinMaxScaler"
   ]
  },
  {
   "cell_type": "markdown",
   "id": "d8f69607",
   "metadata": {},
   "source": [
    "## Loading and reading data"
   ]
  },
  {
   "cell_type": "markdown",
   "id": "82d7cb88",
   "metadata": {},
   "source": [
    "Data source: https://www.kaggle.com/arashnic/marketing-bias-dataset"
   ]
  },
  {
   "cell_type": "code",
   "execution_count": 2,
   "id": "058f5da2",
   "metadata": {},
   "outputs": [],
   "source": [
    "raw_data = pd.read_csv('/Users/judith/Data_science_projects/Springboard_AssignmentsJY/capstone_three/data/raw/df_modcloth.csv')"
   ]
  },
  {
   "cell_type": "markdown",
   "id": "d7765f67",
   "metadata": {},
   "source": [
    "## Inspecting data"
   ]
  },
  {
   "cell_type": "code",
   "execution_count": 3,
   "id": "ea290bfc",
   "metadata": {},
   "outputs": [
    {
     "data": {
      "text/html": [
       "<div>\n",
       "<style scoped>\n",
       "    .dataframe tbody tr th:only-of-type {\n",
       "        vertical-align: middle;\n",
       "    }\n",
       "\n",
       "    .dataframe tbody tr th {\n",
       "        vertical-align: top;\n",
       "    }\n",
       "\n",
       "    .dataframe thead th {\n",
       "        text-align: right;\n",
       "    }\n",
       "</style>\n",
       "<table border=\"1\" class=\"dataframe\">\n",
       "  <thead>\n",
       "    <tr style=\"text-align: right;\">\n",
       "      <th></th>\n",
       "      <th>item_id</th>\n",
       "      <th>user_id</th>\n",
       "      <th>rating</th>\n",
       "      <th>timestamp</th>\n",
       "      <th>size</th>\n",
       "      <th>fit</th>\n",
       "      <th>user_attr</th>\n",
       "      <th>model_attr</th>\n",
       "      <th>category</th>\n",
       "      <th>brand</th>\n",
       "      <th>year</th>\n",
       "      <th>split</th>\n",
       "    </tr>\n",
       "  </thead>\n",
       "  <tbody>\n",
       "    <tr>\n",
       "      <th>0</th>\n",
       "      <td>7443</td>\n",
       "      <td>Alex</td>\n",
       "      <td>4</td>\n",
       "      <td>2010-01-21 08:00:00+00:00</td>\n",
       "      <td>NaN</td>\n",
       "      <td>NaN</td>\n",
       "      <td>Small</td>\n",
       "      <td>Small</td>\n",
       "      <td>Dresses</td>\n",
       "      <td>NaN</td>\n",
       "      <td>2012</td>\n",
       "      <td>0</td>\n",
       "    </tr>\n",
       "    <tr>\n",
       "      <th>1</th>\n",
       "      <td>7443</td>\n",
       "      <td>carolyn.agan</td>\n",
       "      <td>3</td>\n",
       "      <td>2010-01-27 08:00:00+00:00</td>\n",
       "      <td>NaN</td>\n",
       "      <td>NaN</td>\n",
       "      <td>NaN</td>\n",
       "      <td>Small</td>\n",
       "      <td>Dresses</td>\n",
       "      <td>NaN</td>\n",
       "      <td>2012</td>\n",
       "      <td>0</td>\n",
       "    </tr>\n",
       "    <tr>\n",
       "      <th>2</th>\n",
       "      <td>7443</td>\n",
       "      <td>Robyn</td>\n",
       "      <td>4</td>\n",
       "      <td>2010-01-29 08:00:00+00:00</td>\n",
       "      <td>NaN</td>\n",
       "      <td>NaN</td>\n",
       "      <td>Small</td>\n",
       "      <td>Small</td>\n",
       "      <td>Dresses</td>\n",
       "      <td>NaN</td>\n",
       "      <td>2012</td>\n",
       "      <td>0</td>\n",
       "    </tr>\n",
       "    <tr>\n",
       "      <th>3</th>\n",
       "      <td>7443</td>\n",
       "      <td>De</td>\n",
       "      <td>4</td>\n",
       "      <td>2010-02-13 08:00:00+00:00</td>\n",
       "      <td>NaN</td>\n",
       "      <td>NaN</td>\n",
       "      <td>NaN</td>\n",
       "      <td>Small</td>\n",
       "      <td>Dresses</td>\n",
       "      <td>NaN</td>\n",
       "      <td>2012</td>\n",
       "      <td>0</td>\n",
       "    </tr>\n",
       "    <tr>\n",
       "      <th>4</th>\n",
       "      <td>7443</td>\n",
       "      <td>tasha</td>\n",
       "      <td>4</td>\n",
       "      <td>2010-02-18 08:00:00+00:00</td>\n",
       "      <td>NaN</td>\n",
       "      <td>NaN</td>\n",
       "      <td>Small</td>\n",
       "      <td>Small</td>\n",
       "      <td>Dresses</td>\n",
       "      <td>NaN</td>\n",
       "      <td>2012</td>\n",
       "      <td>0</td>\n",
       "    </tr>\n",
       "  </tbody>\n",
       "</table>\n",
       "</div>"
      ],
      "text/plain": [
       "   item_id       user_id  rating                  timestamp  size  fit  \\\n",
       "0     7443          Alex       4  2010-01-21 08:00:00+00:00   NaN  NaN   \n",
       "1     7443  carolyn.agan       3  2010-01-27 08:00:00+00:00   NaN  NaN   \n",
       "2     7443         Robyn       4  2010-01-29 08:00:00+00:00   NaN  NaN   \n",
       "3     7443            De       4  2010-02-13 08:00:00+00:00   NaN  NaN   \n",
       "4     7443         tasha       4  2010-02-18 08:00:00+00:00   NaN  NaN   \n",
       "\n",
       "  user_attr model_attr category brand  year  split  \n",
       "0     Small      Small  Dresses   NaN  2012      0  \n",
       "1       NaN      Small  Dresses   NaN  2012      0  \n",
       "2     Small      Small  Dresses   NaN  2012      0  \n",
       "3       NaN      Small  Dresses   NaN  2012      0  \n",
       "4     Small      Small  Dresses   NaN  2012      0  "
      ]
     },
     "execution_count": 3,
     "metadata": {},
     "output_type": "execute_result"
    }
   ],
   "source": [
    "raw_data.head()"
   ]
  },
  {
   "cell_type": "code",
   "execution_count": 4,
   "id": "001693b2",
   "metadata": {},
   "outputs": [
    {
     "data": {
      "text/html": [
       "<div>\n",
       "<style scoped>\n",
       "    .dataframe tbody tr th:only-of-type {\n",
       "        vertical-align: middle;\n",
       "    }\n",
       "\n",
       "    .dataframe tbody tr th {\n",
       "        vertical-align: top;\n",
       "    }\n",
       "\n",
       "    .dataframe thead th {\n",
       "        text-align: right;\n",
       "    }\n",
       "</style>\n",
       "<table border=\"1\" class=\"dataframe\">\n",
       "  <thead>\n",
       "    <tr style=\"text-align: right;\">\n",
       "      <th></th>\n",
       "      <th>item_id</th>\n",
       "      <th>rating</th>\n",
       "      <th>size</th>\n",
       "      <th>year</th>\n",
       "      <th>split</th>\n",
       "    </tr>\n",
       "  </thead>\n",
       "  <tbody>\n",
       "    <tr>\n",
       "      <th>count</th>\n",
       "      <td>99893.000000</td>\n",
       "      <td>99893.000000</td>\n",
       "      <td>78133.000000</td>\n",
       "      <td>99893.000000</td>\n",
       "      <td>99893.000000</td>\n",
       "    </tr>\n",
       "    <tr>\n",
       "      <th>mean</th>\n",
       "      <td>83944.091208</td>\n",
       "      <td>4.209594</td>\n",
       "      <td>3.217322</td>\n",
       "      <td>2015.476450</td>\n",
       "      <td>0.358564</td>\n",
       "    </tr>\n",
       "    <tr>\n",
       "      <th>std</th>\n",
       "      <td>43558.135979</td>\n",
       "      <td>1.080633</td>\n",
       "      <td>1.885934</td>\n",
       "      <td>1.970262</td>\n",
       "      <td>0.720993</td>\n",
       "    </tr>\n",
       "    <tr>\n",
       "      <th>min</th>\n",
       "      <td>6454.000000</td>\n",
       "      <td>1.000000</td>\n",
       "      <td>0.000000</td>\n",
       "      <td>2010.000000</td>\n",
       "      <td>0.000000</td>\n",
       "    </tr>\n",
       "    <tr>\n",
       "      <th>25%</th>\n",
       "      <td>48629.000000</td>\n",
       "      <td>4.000000</td>\n",
       "      <td>2.000000</td>\n",
       "      <td>2014.000000</td>\n",
       "      <td>0.000000</td>\n",
       "    </tr>\n",
       "    <tr>\n",
       "      <th>50%</th>\n",
       "      <td>77878.000000</td>\n",
       "      <td>5.000000</td>\n",
       "      <td>3.000000</td>\n",
       "      <td>2016.000000</td>\n",
       "      <td>0.000000</td>\n",
       "    </tr>\n",
       "    <tr>\n",
       "      <th>75%</th>\n",
       "      <td>120126.000000</td>\n",
       "      <td>5.000000</td>\n",
       "      <td>4.000000</td>\n",
       "      <td>2017.000000</td>\n",
       "      <td>0.000000</td>\n",
       "    </tr>\n",
       "    <tr>\n",
       "      <th>max</th>\n",
       "      <td>155950.000000</td>\n",
       "      <td>5.000000</td>\n",
       "      <td>8.000000</td>\n",
       "      <td>2019.000000</td>\n",
       "      <td>2.000000</td>\n",
       "    </tr>\n",
       "  </tbody>\n",
       "</table>\n",
       "</div>"
      ],
      "text/plain": [
       "             item_id        rating          size          year         split\n",
       "count   99893.000000  99893.000000  78133.000000  99893.000000  99893.000000\n",
       "mean    83944.091208      4.209594      3.217322   2015.476450      0.358564\n",
       "std     43558.135979      1.080633      1.885934      1.970262      0.720993\n",
       "min      6454.000000      1.000000      0.000000   2010.000000      0.000000\n",
       "25%     48629.000000      4.000000      2.000000   2014.000000      0.000000\n",
       "50%     77878.000000      5.000000      3.000000   2016.000000      0.000000\n",
       "75%    120126.000000      5.000000      4.000000   2017.000000      0.000000\n",
       "max    155950.000000      5.000000      8.000000   2019.000000      2.000000"
      ]
     },
     "execution_count": 4,
     "metadata": {},
     "output_type": "execute_result"
    }
   ],
   "source": [
    "raw_data.describe()"
   ]
  },
  {
   "cell_type": "code",
   "execution_count": 5,
   "id": "9b021f16",
   "metadata": {},
   "outputs": [
    {
     "name": "stdout",
     "output_type": "stream",
     "text": [
      "<class 'pandas.core.frame.DataFrame'>\n",
      "RangeIndex: 99893 entries, 0 to 99892\n",
      "Data columns (total 12 columns):\n",
      " #   Column      Non-Null Count  Dtype  \n",
      "---  ------      --------------  -----  \n",
      " 0   item_id     99893 non-null  int64  \n",
      " 1   user_id     99892 non-null  object \n",
      " 2   rating      99893 non-null  int64  \n",
      " 3   timestamp   99893 non-null  object \n",
      " 4   size        78133 non-null  float64\n",
      " 5   fit         81387 non-null  object \n",
      " 6   user_attr   91526 non-null  object \n",
      " 7   model_attr  99893 non-null  object \n",
      " 8   category    99893 non-null  object \n",
      " 9   brand       25913 non-null  object \n",
      " 10  year        99893 non-null  int64  \n",
      " 11  split       99893 non-null  int64  \n",
      "dtypes: float64(1), int64(4), object(7)\n",
      "memory usage: 9.1+ MB\n"
     ]
    }
   ],
   "source": [
    "raw_data.info()  # checking data types"
   ]
  },
  {
   "cell_type": "markdown",
   "id": "4c2b088d",
   "metadata": {},
   "source": [
    "### Analysing ratings and users"
   ]
  },
  {
   "cell_type": "code",
   "execution_count": 6,
   "id": "52040f6f",
   "metadata": {},
   "outputs": [
    {
     "name": "stderr",
     "output_type": "stream",
     "text": [
      "/Users/judith/opt/anaconda3/lib/python3.7/site-packages/seaborn/distributions.py:2557: FutureWarning: `distplot` is a deprecated function and will be removed in a future version. Please adapt your code to use either `displot` (a figure-level function with similar flexibility) or `histplot` (an axes-level function for histograms).\n",
      "  warnings.warn(msg, FutureWarning)\n"
     ]
    },
    {
     "data": {
      "text/plain": [
       "<AxesSubplot:xlabel='rating', ylabel='Density'>"
      ]
     },
     "execution_count": 6,
     "metadata": {},
     "output_type": "execute_result"
    },
    {
     "data": {
      "image/png": "[encoded data removed]",
      "text/plain": [
       "<Figure size 864x432 with 1 Axes>"
      ]
     },
     "metadata": {
      "needs_background": "light"
     },
     "output_type": "display_data"
    }
   ],
   "source": [
    "# ratings distribution\n",
    "plt.figure(figsize = (12,6))\n",
    "sns.distplot(raw_data.rating)"
   ]
  },
  {
   "cell_type": "code",
   "execution_count": 7,
   "id": "27eb84b7",
   "metadata": {},
   "outputs": [
    {
     "data": {
      "text/html": [
       "<div>\n",
       "<style scoped>\n",
       "    .dataframe tbody tr th:only-of-type {\n",
       "        vertical-align: middle;\n",
       "    }\n",
       "\n",
       "    .dataframe tbody tr th {\n",
       "        vertical-align: top;\n",
       "    }\n",
       "\n",
       "    .dataframe thead th {\n",
       "        text-align: right;\n",
       "    }\n",
       "</style>\n",
       "<table border=\"1\" class=\"dataframe\">\n",
       "  <thead>\n",
       "    <tr style=\"text-align: right;\">\n",
       "      <th></th>\n",
       "      <th>rating</th>\n",
       "    </tr>\n",
       "    <tr>\n",
       "      <th>item_id</th>\n",
       "      <th></th>\n",
       "    </tr>\n",
       "  </thead>\n",
       "  <tbody>\n",
       "    <tr>\n",
       "      <th>152834</th>\n",
       "      <td>5.000000</td>\n",
       "    </tr>\n",
       "    <tr>\n",
       "      <th>153536</th>\n",
       "      <td>5.000000</td>\n",
       "    </tr>\n",
       "    <tr>\n",
       "      <th>153196</th>\n",
       "      <td>5.000000</td>\n",
       "    </tr>\n",
       "    <tr>\n",
       "      <th>148277</th>\n",
       "      <td>5.000000</td>\n",
       "    </tr>\n",
       "    <tr>\n",
       "      <th>153131</th>\n",
       "      <td>5.000000</td>\n",
       "    </tr>\n",
       "    <tr>\n",
       "      <th>...</th>\n",
       "      <td>...</td>\n",
       "    </tr>\n",
       "    <tr>\n",
       "      <th>152737</th>\n",
       "      <td>1.750000</td>\n",
       "    </tr>\n",
       "    <tr>\n",
       "      <th>152888</th>\n",
       "      <td>1.750000</td>\n",
       "    </tr>\n",
       "    <tr>\n",
       "      <th>152146</th>\n",
       "      <td>1.333333</td>\n",
       "    </tr>\n",
       "    <tr>\n",
       "      <th>153479</th>\n",
       "      <td>1.000000</td>\n",
       "    </tr>\n",
       "    <tr>\n",
       "      <th>149062</th>\n",
       "      <td>1.000000</td>\n",
       "    </tr>\n",
       "  </tbody>\n",
       "</table>\n",
       "<p>1020 rows × 1 columns</p>\n",
       "</div>"
      ],
      "text/plain": [
       "           rating\n",
       "item_id          \n",
       "152834   5.000000\n",
       "153536   5.000000\n",
       "153196   5.000000\n",
       "148277   5.000000\n",
       "153131   5.000000\n",
       "...           ...\n",
       "152737   1.750000\n",
       "152888   1.750000\n",
       "152146   1.333333\n",
       "153479   1.000000\n",
       "149062   1.000000\n",
       "\n",
       "[1020 rows x 1 columns]"
      ]
     },
     "execution_count": 7,
     "metadata": {},
     "output_type": "execute_result"
    }
   ],
   "source": [
    "# Analyzing the distribution of average number of ratings by item\n",
    "avg_rating = raw_data[['item_id', 'rating']]\n",
    "mean_rating = avg_rating.groupby('item_id').mean()\n",
    "mean_rating.sort_values(by = 'rating', ascending = False)"
   ]
  },
  {
   "cell_type": "code",
   "execution_count": 8,
   "id": "a269ba8c",
   "metadata": {},
   "outputs": [
    {
     "data": {
      "image/png": "[encoded data removed]",
      "text/plain": [
       "<Figure size 360x360 with 1 Axes>"
      ]
     },
     "metadata": {
      "needs_background": "light"
     },
     "output_type": "display_data"
    }
   ],
   "source": [
    "sns.displot(mean_rating.rating)\n",
    "plt.title('Average number of rating by item')\n",
    "plt.show()"
   ]
  },
  {
   "cell_type": "code",
   "execution_count": 9,
   "id": "36097397",
   "metadata": {},
   "outputs": [
    {
     "data": {
      "text/html": [
       "<div>\n",
       "<style scoped>\n",
       "    .dataframe tbody tr th:only-of-type {\n",
       "        vertical-align: middle;\n",
       "    }\n",
       "\n",
       "    .dataframe tbody tr th {\n",
       "        vertical-align: top;\n",
       "    }\n",
       "\n",
       "    .dataframe thead th {\n",
       "        text-align: right;\n",
       "    }\n",
       "</style>\n",
       "<table border=\"1\" class=\"dataframe\">\n",
       "  <thead>\n",
       "    <tr style=\"text-align: right;\">\n",
       "      <th></th>\n",
       "      <th>rating</th>\n",
       "    </tr>\n",
       "    <tr>\n",
       "      <th>item_id</th>\n",
       "      <th></th>\n",
       "    </tr>\n",
       "  </thead>\n",
       "  <tbody>\n",
       "    <tr>\n",
       "      <th>34935</th>\n",
       "      <td>1887</td>\n",
       "    </tr>\n",
       "    <tr>\n",
       "      <th>21296</th>\n",
       "      <td>1636</td>\n",
       "    </tr>\n",
       "    <tr>\n",
       "      <th>32405</th>\n",
       "      <td>1599</td>\n",
       "    </tr>\n",
       "    <tr>\n",
       "      <th>32406</th>\n",
       "      <td>1494</td>\n",
       "    </tr>\n",
       "    <tr>\n",
       "      <th>32403</th>\n",
       "      <td>1378</td>\n",
       "    </tr>\n",
       "    <tr>\n",
       "      <th>...</th>\n",
       "      <td>...</td>\n",
       "    </tr>\n",
       "    <tr>\n",
       "      <th>152835</th>\n",
       "      <td>1</td>\n",
       "    </tr>\n",
       "    <tr>\n",
       "      <th>151458</th>\n",
       "      <td>1</td>\n",
       "    </tr>\n",
       "    <tr>\n",
       "      <th>153339</th>\n",
       "      <td>1</td>\n",
       "    </tr>\n",
       "    <tr>\n",
       "      <th>153479</th>\n",
       "      <td>1</td>\n",
       "    </tr>\n",
       "    <tr>\n",
       "      <th>148277</th>\n",
       "      <td>1</td>\n",
       "    </tr>\n",
       "  </tbody>\n",
       "</table>\n",
       "<p>1020 rows × 1 columns</p>\n",
       "</div>"
      ],
      "text/plain": [
       "         rating\n",
       "item_id        \n",
       "34935      1887\n",
       "21296      1636\n",
       "32405      1599\n",
       "32406      1494\n",
       "32403      1378\n",
       "...         ...\n",
       "152835        1\n",
       "151458        1\n",
       "153339        1\n",
       "153479        1\n",
       "148277        1\n",
       "\n",
       "[1020 rows x 1 columns]"
      ]
     },
     "execution_count": 9,
     "metadata": {},
     "output_type": "execute_result"
    }
   ],
   "source": [
    "# Analyzing the distribution of total number of ratings by item\n",
    "tot_rating = avg_rating.groupby('item_id').count()\n",
    "tot_rating.sort_values(by = 'rating', ascending = False)"
   ]
  },
  {
   "cell_type": "code",
   "execution_count": 10,
   "id": "3dded335",
   "metadata": {},
   "outputs": [
    {
     "data": {
      "image/png": "[encoded data removed]",
      "text/plain": [
       "<Figure size 360x360 with 1 Axes>"
      ]
     },
     "metadata": {
      "needs_background": "light"
     },
     "output_type": "display_data"
    }
   ],
   "source": [
    "sns.displot(tot_rating.rating)\n",
    "plt.title('Total number of rating by item')\n",
    "plt.show()"
   ]
  },
  {
   "cell_type": "markdown",
   "id": "e8ad7f44",
   "metadata": {},
   "source": [
    "- Rating distribution is very dense with no gap in data over a scale from 1 to 5\n",
    "- Distribution of average number of rating per item is right skewed which confirms that there are some 'very popular' items with high frequency of rating while others have much lower number of rating\n",
    "- The second plot tell us that most items only have few number of ratings"
   ]
  },
  {
   "cell_type": "code",
   "execution_count": 11,
   "id": "9fac0850",
   "metadata": {},
   "outputs": [
    {
     "name": "stdout",
     "output_type": "stream",
     "text": [
      "There are 44783 users and 1020 items for a ratio of 43.904901960784315 items purchased by user\n"
     ]
    }
   ],
   "source": [
    "# calculating average number of items purchased by user\n",
    "users = raw_data['user_id'].nunique()\n",
    "items = len(np.unique(raw_data.item_id))\n",
    "print('There are {} users and {} items for a ratio of {} items purchased by user'.format(users, items, users/items))"
   ]
  },
  {
   "cell_type": "markdown",
   "id": "9f8caa8b",
   "metadata": {},
   "source": [
    "We have far more users than products, this means that we have more data to cover many different types user profiles "
   ]
  },
  {
   "cell_type": "markdown",
   "id": "b73db45e",
   "metadata": {},
   "source": [
    "## Checking missing value"
   ]
  },
  {
   "cell_type": "code",
   "execution_count": 12,
   "id": "36474651",
   "metadata": {},
   "outputs": [
    {
     "data": {
      "text/plain": [
       "item_id           0\n",
       "user_id           1\n",
       "rating            0\n",
       "timestamp         0\n",
       "size          21760\n",
       "fit           18506\n",
       "user_attr      8367\n",
       "model_attr        0\n",
       "category          0\n",
       "brand         73980\n",
       "year              0\n",
       "split             0\n",
       "dtype: int64"
      ]
     },
     "execution_count": 12,
     "metadata": {},
     "output_type": "execute_result"
    }
   ],
   "source": [
    "raw_data.isnull().sum() # checking quantities of null values"
   ]
  },
  {
   "cell_type": "code",
   "execution_count": 13,
   "id": "b1993200",
   "metadata": {},
   "outputs": [],
   "source": [
    "missing = raw_data.isnull().sum()/len(raw_data)   # getting an idea of the proportion of missing data"
   ]
  },
  {
   "cell_type": "code",
   "execution_count": 14,
   "id": "37072c04",
   "metadata": {},
   "outputs": [
    {
     "data": {
      "text/html": [
       "<div>\n",
       "<style scoped>\n",
       "    .dataframe tbody tr th:only-of-type {\n",
       "        vertical-align: middle;\n",
       "    }\n",
       "\n",
       "    .dataframe tbody tr th {\n",
       "        vertical-align: top;\n",
       "    }\n",
       "\n",
       "    .dataframe thead th {\n",
       "        text-align: right;\n",
       "    }\n",
       "</style>\n",
       "<table border=\"1\" class=\"dataframe\">\n",
       "  <thead>\n",
       "    <tr style=\"text-align: right;\">\n",
       "      <th></th>\n",
       "      <th>missing</th>\n",
       "      <th>cat</th>\n",
       "    </tr>\n",
       "  </thead>\n",
       "  <tbody>\n",
       "    <tr>\n",
       "      <th>item_id</th>\n",
       "      <td>0.000000</td>\n",
       "      <td>int64</td>\n",
       "    </tr>\n",
       "    <tr>\n",
       "      <th>user_id</th>\n",
       "      <td>0.000010</td>\n",
       "      <td>object</td>\n",
       "    </tr>\n",
       "    <tr>\n",
       "      <th>rating</th>\n",
       "      <td>0.000000</td>\n",
       "      <td>int64</td>\n",
       "    </tr>\n",
       "    <tr>\n",
       "      <th>timestamp</th>\n",
       "      <td>0.000000</td>\n",
       "      <td>object</td>\n",
       "    </tr>\n",
       "    <tr>\n",
       "      <th>size</th>\n",
       "      <td>0.217833</td>\n",
       "      <td>float64</td>\n",
       "    </tr>\n",
       "    <tr>\n",
       "      <th>fit</th>\n",
       "      <td>0.185258</td>\n",
       "      <td>object</td>\n",
       "    </tr>\n",
       "    <tr>\n",
       "      <th>user_attr</th>\n",
       "      <td>0.083760</td>\n",
       "      <td>object</td>\n",
       "    </tr>\n",
       "    <tr>\n",
       "      <th>model_attr</th>\n",
       "      <td>0.000000</td>\n",
       "      <td>object</td>\n",
       "    </tr>\n",
       "    <tr>\n",
       "      <th>category</th>\n",
       "      <td>0.000000</td>\n",
       "      <td>object</td>\n",
       "    </tr>\n",
       "    <tr>\n",
       "      <th>brand</th>\n",
       "      <td>0.740592</td>\n",
       "      <td>object</td>\n",
       "    </tr>\n",
       "    <tr>\n",
       "      <th>year</th>\n",
       "      <td>0.000000</td>\n",
       "      <td>int64</td>\n",
       "    </tr>\n",
       "    <tr>\n",
       "      <th>split</th>\n",
       "      <td>0.000000</td>\n",
       "      <td>int64</td>\n",
       "    </tr>\n",
       "  </tbody>\n",
       "</table>\n",
       "</div>"
      ],
      "text/plain": [
       "             missing      cat\n",
       "item_id     0.000000    int64\n",
       "user_id     0.000010   object\n",
       "rating      0.000000    int64\n",
       "timestamp   0.000000   object\n",
       "size        0.217833  float64\n",
       "fit         0.185258   object\n",
       "user_attr   0.083760   object\n",
       "model_attr  0.000000   object\n",
       "category    0.000000   object\n",
       "brand       0.740592   object\n",
       "year        0.000000    int64\n",
       "split       0.000000    int64"
      ]
     },
     "execution_count": 14,
     "metadata": {},
     "output_type": "execute_result"
    }
   ],
   "source": [
    "data_sum= pd.DataFrame({'missing':missing, 'cat': raw_data.dtypes})\n",
    "data_sum"
   ]
  },
  {
   "cell_type": "markdown",
   "id": "b2eed370",
   "metadata": {},
   "source": [
    "## Checking unique values in each column"
   ]
  },
  {
   "cell_type": "code",
   "execution_count": 15,
   "id": "ea54d73e",
   "metadata": {},
   "outputs": [],
   "source": [
    "# Creating a function to count the number of unique values in each column\n",
    "\n",
    "def unique(df, cols):\n",
    "    unique_val = []\n",
    "    for col in cols:\n",
    "        unique_val.append(len(df[col].value_counts()))\n",
    "    return unique_val"
   ]
  },
  {
   "cell_type": "code",
   "execution_count": 16,
   "id": "cef5b541",
   "metadata": {},
   "outputs": [],
   "source": [
    "unique_val = unique(raw_data, data_sum.index)"
   ]
  },
  {
   "cell_type": "code",
   "execution_count": 17,
   "id": "e34e664e",
   "metadata": {},
   "outputs": [
    {
     "data": {
      "text/html": [
       "<div>\n",
       "<style scoped>\n",
       "    .dataframe tbody tr th:only-of-type {\n",
       "        vertical-align: middle;\n",
       "    }\n",
       "\n",
       "    .dataframe tbody tr th {\n",
       "        vertical-align: top;\n",
       "    }\n",
       "\n",
       "    .dataframe thead th {\n",
       "        text-align: right;\n",
       "    }\n",
       "</style>\n",
       "<table border=\"1\" class=\"dataframe\">\n",
       "  <thead>\n",
       "    <tr style=\"text-align: right;\">\n",
       "      <th></th>\n",
       "      <th>missing</th>\n",
       "      <th>cat</th>\n",
       "      <th>unique</th>\n",
       "    </tr>\n",
       "  </thead>\n",
       "  <tbody>\n",
       "    <tr>\n",
       "      <th>item_id</th>\n",
       "      <td>0.000000</td>\n",
       "      <td>int64</td>\n",
       "      <td>1020</td>\n",
       "    </tr>\n",
       "    <tr>\n",
       "      <th>user_id</th>\n",
       "      <td>0.000010</td>\n",
       "      <td>object</td>\n",
       "      <td>44783</td>\n",
       "    </tr>\n",
       "    <tr>\n",
       "      <th>rating</th>\n",
       "      <td>0.000000</td>\n",
       "      <td>int64</td>\n",
       "      <td>5</td>\n",
       "    </tr>\n",
       "    <tr>\n",
       "      <th>timestamp</th>\n",
       "      <td>0.000000</td>\n",
       "      <td>object</td>\n",
       "      <td>14741</td>\n",
       "    </tr>\n",
       "    <tr>\n",
       "      <th>size</th>\n",
       "      <td>0.217833</td>\n",
       "      <td>float64</td>\n",
       "      <td>9</td>\n",
       "    </tr>\n",
       "    <tr>\n",
       "      <th>fit</th>\n",
       "      <td>0.185258</td>\n",
       "      <td>object</td>\n",
       "      <td>5</td>\n",
       "    </tr>\n",
       "    <tr>\n",
       "      <th>user_attr</th>\n",
       "      <td>0.083760</td>\n",
       "      <td>object</td>\n",
       "      <td>2</td>\n",
       "    </tr>\n",
       "    <tr>\n",
       "      <th>model_attr</th>\n",
       "      <td>0.000000</td>\n",
       "      <td>object</td>\n",
       "      <td>2</td>\n",
       "    </tr>\n",
       "    <tr>\n",
       "      <th>category</th>\n",
       "      <td>0.000000</td>\n",
       "      <td>object</td>\n",
       "      <td>4</td>\n",
       "    </tr>\n",
       "    <tr>\n",
       "      <th>brand</th>\n",
       "      <td>0.740592</td>\n",
       "      <td>object</td>\n",
       "      <td>31</td>\n",
       "    </tr>\n",
       "    <tr>\n",
       "      <th>year</th>\n",
       "      <td>0.000000</td>\n",
       "      <td>int64</td>\n",
       "      <td>10</td>\n",
       "    </tr>\n",
       "    <tr>\n",
       "      <th>split</th>\n",
       "      <td>0.000000</td>\n",
       "      <td>int64</td>\n",
       "      <td>3</td>\n",
       "    </tr>\n",
       "  </tbody>\n",
       "</table>\n",
       "</div>"
      ],
      "text/plain": [
       "             missing      cat  unique\n",
       "item_id     0.000000    int64    1020\n",
       "user_id     0.000010   object   44783\n",
       "rating      0.000000    int64       5\n",
       "timestamp   0.000000   object   14741\n",
       "size        0.217833  float64       9\n",
       "fit         0.185258   object       5\n",
       "user_attr   0.083760   object       2\n",
       "model_attr  0.000000   object       2\n",
       "category    0.000000   object       4\n",
       "brand       0.740592   object      31\n",
       "year        0.000000    int64      10\n",
       "split       0.000000    int64       3"
      ]
     },
     "execution_count": 17,
     "metadata": {},
     "output_type": "execute_result"
    }
   ],
   "source": [
    "data_sum['unique'] = unique_val\n",
    "data_sum"
   ]
  },
  {
   "cell_type": "code",
   "execution_count": 18,
   "id": "6e249134",
   "metadata": {},
   "outputs": [],
   "source": [
    "# Creating a function to display the unique values for attributes\n",
    "# this is limited to attributes having less than 10 unique values \n",
    "# Doing this allow us to see the different values of categorical data\n",
    "\n",
    "def unique_short(df, cols):\n",
    "    for col in cols:\n",
    "        print(col, df[col].value_counts())"
   ]
  },
  {
   "cell_type": "code",
   "execution_count": 19,
   "id": "791d6b11",
   "metadata": {},
   "outputs": [],
   "source": [
    "attributes= data_sum.loc[data_sum['unique'] < 10]"
   ]
  },
  {
   "cell_type": "code",
   "execution_count": 20,
   "id": "4cc440d9",
   "metadata": {},
   "outputs": [
    {
     "name": "stdout",
     "output_type": "stream",
     "text": [
      "rating 5    54568\n",
      "4    24591\n",
      "3    11360\n",
      "2     5851\n",
      "1     3523\n",
      "Name: rating, dtype: int64\n",
      "size 2.0    18211\n",
      "3.0    17752\n",
      "1.0    15195\n",
      "5.0     7759\n",
      "4.0     7388\n",
      "6.0     6004\n",
      "7.0     3793\n",
      "8.0     1948\n",
      "0.0       83\n",
      "Name: size, dtype: int64\n",
      "fit Just right        55287\n",
      "Slightly large    11114\n",
      "Slightly small    10771\n",
      "Very large         2177\n",
      "Very small         2038\n",
      "Name: fit, dtype: int64\n",
      "user_attr Small    73161\n",
      "Large    18365\n",
      "Name: user_attr, dtype: int64\n",
      "model_attr Small&Large    57032\n",
      "Small          42861\n",
      "Name: model_attr, dtype: int64\n",
      "category Tops         34977\n",
      "Dresses      34160\n",
      "Bottoms      23625\n",
      "Outerwear     7131\n",
      "Name: category, dtype: int64\n",
      "split 0    78551\n",
      "2    14476\n",
      "1     6866\n",
      "Name: split, dtype: int64\n"
     ]
    }
   ],
   "source": [
    "unique_short(raw_data, attributes.index)"
   ]
  },
  {
   "cell_type": "markdown",
   "id": "d99b6bb4",
   "metadata": {},
   "source": [
    "**Summary of cleaning tasks :**\n",
    "- user_id:  \n",
    "    - There is 1 missing user_id value and the entire row will need to be removed\n",
    "- Timestamp\n",
    "    - We will drop this column as it wont be useful for any of our analysis\n",
    "- size\n",
    "    - There are about 22% missing values. We can apply a nearest neighbor strategy to populate these missing values\n",
    "- fit\n",
    "    - There are about 18% of missing values. We will apply the same strategy as size for missing values. \n",
    "\n",
    "- user_attr\n",
    "    - there are 8% of missing values. We will apply the same strategy as size for missing values.\n",
    "    \n",
    "- model_attr\n",
    "    - no missing values\n",
    "    \n",
    "- category\n",
    "    - no missing values\n",
    "\n",
    "- brand\n",
    "    - There are about 74% of missing values which means this column will be useless. we will simply drop it.\n",
    "    \n",
    "Others columns (item_id, rating, year and split) do not have to be processed as already in the right type with no missing values"
   ]
  },
  {
   "cell_type": "markdown",
   "id": "687ede24",
   "metadata": {},
   "source": [
    "## Cleaning data"
   ]
  },
  {
   "cell_type": "markdown",
   "id": "c1a40dbf",
   "metadata": {},
   "source": [
    "### Dropping unuseful columns and rows"
   ]
  },
  {
   "cell_type": "code",
   "execution_count": 21,
   "id": "d3a800b1",
   "metadata": {},
   "outputs": [
    {
     "data": {
      "text/plain": [
       "Index(['item_id', 'user_id', 'rating', 'size', 'fit', 'user_attr',\n",
       "       'model_attr', 'category', 'year', 'split'],\n",
       "      dtype='object')"
      ]
     },
     "execution_count": 21,
     "metadata": {},
     "output_type": "execute_result"
    }
   ],
   "source": [
    "# Dropping the column 'brand' and checking it is effective\n",
    "data = raw_data.drop(['brand','timestamp'], axis = 1) # we are creating a new dataframe 'data' to keep clean data\n",
    "data.columns"
   ]
  },
  {
   "cell_type": "code",
   "execution_count": 22,
   "id": "5404ee67",
   "metadata": {},
   "outputs": [],
   "source": [
    "# dropping the row with missing user_id\n",
    "data.dropna(subset = ['user_id'], inplace = True)"
   ]
  },
  {
   "cell_type": "code",
   "execution_count": 23,
   "id": "8897c065",
   "metadata": {},
   "outputs": [
    {
     "data": {
      "text/plain": [
       "False    99892\n",
       "Name: user_id, dtype: int64"
      ]
     },
     "execution_count": 23,
     "metadata": {},
     "output_type": "execute_result"
    }
   ],
   "source": [
    "# checking that the change is effective\n",
    "data.user_id.isnull().value_counts()"
   ]
  },
  {
   "cell_type": "markdown",
   "id": "b8549707",
   "metadata": {},
   "source": [
    "### Populating missing values for categorical data types"
   ]
  },
  {
   "cell_type": "markdown",
   "id": "2890bada",
   "metadata": {},
   "source": [
    "We will use KNN Imputer to impute missing categorical data representing features. We chose this method because it doesnt affect the distribution of data. However, it requires 2 prior steps: 1) scale data to reduce the 'noise' and encode categorical values into objects daata need to be in numerical process. We will also scale data to reduce the noise."
   ]
  },
  {
   "cell_type": "code",
   "execution_count": 24,
   "id": "9684a053",
   "metadata": {},
   "outputs": [],
   "source": [
    "# We will first split our data into 2 dataframes to suits the different modelling scenario\n",
    "ratings = raw_data[['item_id', 'user_id','rating']] # to be used in collaborative filtering recommender\n",
    "raw_features = data.drop(['item_id', 'user_id','rating', ], axis = 1) # to be used in content based recommender"
   ]
  },
  {
   "cell_type": "code",
   "execution_count": 25,
   "id": "241cd39a",
   "metadata": {},
   "outputs": [
    {
     "data": {
      "text/html": [
       "<div>\n",
       "<style scoped>\n",
       "    .dataframe tbody tr th:only-of-type {\n",
       "        vertical-align: middle;\n",
       "    }\n",
       "\n",
       "    .dataframe tbody tr th {\n",
       "        vertical-align: top;\n",
       "    }\n",
       "\n",
       "    .dataframe thead th {\n",
       "        text-align: right;\n",
       "    }\n",
       "</style>\n",
       "<table border=\"1\" class=\"dataframe\">\n",
       "  <thead>\n",
       "    <tr style=\"text-align: right;\">\n",
       "      <th></th>\n",
       "      <th>size</th>\n",
       "      <th>year</th>\n",
       "      <th>split</th>\n",
       "      <th>fit_Slightly large</th>\n",
       "      <th>fit_Slightly small</th>\n",
       "      <th>fit_Very large</th>\n",
       "      <th>fit_Very small</th>\n",
       "      <th>user_attr_Small</th>\n",
       "      <th>model_attr_Small&amp;Large</th>\n",
       "      <th>category_Dresses</th>\n",
       "      <th>category_Outerwear</th>\n",
       "      <th>category_Tops</th>\n",
       "    </tr>\n",
       "  </thead>\n",
       "  <tbody>\n",
       "    <tr>\n",
       "      <th>0</th>\n",
       "      <td>NaN</td>\n",
       "      <td>2012</td>\n",
       "      <td>0</td>\n",
       "      <td>0</td>\n",
       "      <td>0</td>\n",
       "      <td>0</td>\n",
       "      <td>0</td>\n",
       "      <td>1</td>\n",
       "      <td>0</td>\n",
       "      <td>1</td>\n",
       "      <td>0</td>\n",
       "      <td>0</td>\n",
       "    </tr>\n",
       "    <tr>\n",
       "      <th>1</th>\n",
       "      <td>NaN</td>\n",
       "      <td>2012</td>\n",
       "      <td>0</td>\n",
       "      <td>0</td>\n",
       "      <td>0</td>\n",
       "      <td>0</td>\n",
       "      <td>0</td>\n",
       "      <td>0</td>\n",
       "      <td>0</td>\n",
       "      <td>1</td>\n",
       "      <td>0</td>\n",
       "      <td>0</td>\n",
       "    </tr>\n",
       "    <tr>\n",
       "      <th>2</th>\n",
       "      <td>NaN</td>\n",
       "      <td>2012</td>\n",
       "      <td>0</td>\n",
       "      <td>0</td>\n",
       "      <td>0</td>\n",
       "      <td>0</td>\n",
       "      <td>0</td>\n",
       "      <td>1</td>\n",
       "      <td>0</td>\n",
       "      <td>1</td>\n",
       "      <td>0</td>\n",
       "      <td>0</td>\n",
       "    </tr>\n",
       "    <tr>\n",
       "      <th>3</th>\n",
       "      <td>NaN</td>\n",
       "      <td>2012</td>\n",
       "      <td>0</td>\n",
       "      <td>0</td>\n",
       "      <td>0</td>\n",
       "      <td>0</td>\n",
       "      <td>0</td>\n",
       "      <td>0</td>\n",
       "      <td>0</td>\n",
       "      <td>1</td>\n",
       "      <td>0</td>\n",
       "      <td>0</td>\n",
       "    </tr>\n",
       "    <tr>\n",
       "      <th>4</th>\n",
       "      <td>NaN</td>\n",
       "      <td>2012</td>\n",
       "      <td>0</td>\n",
       "      <td>0</td>\n",
       "      <td>0</td>\n",
       "      <td>0</td>\n",
       "      <td>0</td>\n",
       "      <td>1</td>\n",
       "      <td>0</td>\n",
       "      <td>1</td>\n",
       "      <td>0</td>\n",
       "      <td>0</td>\n",
       "    </tr>\n",
       "  </tbody>\n",
       "</table>\n",
       "</div>"
      ],
      "text/plain": [
       "   size  year  split  fit_Slightly large  fit_Slightly small  fit_Very large  \\\n",
       "0   NaN  2012      0                   0                   0               0   \n",
       "1   NaN  2012      0                   0                   0               0   \n",
       "2   NaN  2012      0                   0                   0               0   \n",
       "3   NaN  2012      0                   0                   0               0   \n",
       "4   NaN  2012      0                   0                   0               0   \n",
       "\n",
       "   fit_Very small  user_attr_Small  model_attr_Small&Large  category_Dresses  \\\n",
       "0               0                1                       0                 1   \n",
       "1               0                0                       0                 1   \n",
       "2               0                1                       0                 1   \n",
       "3               0                0                       0                 1   \n",
       "4               0                1                       0                 1   \n",
       "\n",
       "   category_Outerwear  category_Tops  \n",
       "0                   0              0  \n",
       "1                   0              0  \n",
       "2                   0              0  \n",
       "3                   0              0  \n",
       "4                   0              0  "
      ]
     },
     "execution_count": 25,
     "metadata": {},
     "output_type": "execute_result"
    }
   ],
   "source": [
    "features = pd.get_dummies(raw_features, drop_first = True)\n",
    "features.head()"
   ]
  },
  {
   "cell_type": "code",
   "execution_count": 26,
   "id": "f79d20df",
   "metadata": {},
   "outputs": [
    {
     "data": {
      "text/plain": [
       "(99892, 12)"
      ]
     },
     "execution_count": 26,
     "metadata": {},
     "output_type": "execute_result"
    }
   ],
   "source": [
    "features.shape"
   ]
  },
  {
   "cell_type": "markdown",
   "id": "b87392f2",
   "metadata": {},
   "source": [
    "Populating missing values using KNN imputer"
   ]
  },
  {
   "cell_type": "code",
   "execution_count": 27,
   "id": "386446f4",
   "metadata": {},
   "outputs": [
    {
     "data": {
      "text/html": [
       "<div>\n",
       "<style scoped>\n",
       "    .dataframe tbody tr th:only-of-type {\n",
       "        vertical-align: middle;\n",
       "    }\n",
       "\n",
       "    .dataframe tbody tr th {\n",
       "        vertical-align: top;\n",
       "    }\n",
       "\n",
       "    .dataframe thead th {\n",
       "        text-align: right;\n",
       "    }\n",
       "</style>\n",
       "<table border=\"1\" class=\"dataframe\">\n",
       "  <thead>\n",
       "    <tr style=\"text-align: right;\">\n",
       "      <th></th>\n",
       "      <th>size</th>\n",
       "      <th>year</th>\n",
       "      <th>split</th>\n",
       "      <th>fit_Slightly large</th>\n",
       "      <th>fit_Slightly small</th>\n",
       "      <th>fit_Very large</th>\n",
       "      <th>fit_Very small</th>\n",
       "      <th>user_attr_Small</th>\n",
       "      <th>model_attr_Small&amp;Large</th>\n",
       "      <th>category_Dresses</th>\n",
       "      <th>category_Outerwear</th>\n",
       "      <th>category_Tops</th>\n",
       "    </tr>\n",
       "  </thead>\n",
       "  <tbody>\n",
       "    <tr>\n",
       "      <th>0</th>\n",
       "      <td>NaN</td>\n",
       "      <td>0.222222</td>\n",
       "      <td>0.0</td>\n",
       "      <td>0.0</td>\n",
       "      <td>0.0</td>\n",
       "      <td>0.0</td>\n",
       "      <td>0.0</td>\n",
       "      <td>1.0</td>\n",
       "      <td>0.0</td>\n",
       "      <td>1.0</td>\n",
       "      <td>0.0</td>\n",
       "      <td>0.0</td>\n",
       "    </tr>\n",
       "    <tr>\n",
       "      <th>1</th>\n",
       "      <td>NaN</td>\n",
       "      <td>0.222222</td>\n",
       "      <td>0.0</td>\n",
       "      <td>0.0</td>\n",
       "      <td>0.0</td>\n",
       "      <td>0.0</td>\n",
       "      <td>0.0</td>\n",
       "      <td>0.0</td>\n",
       "      <td>0.0</td>\n",
       "      <td>1.0</td>\n",
       "      <td>0.0</td>\n",
       "      <td>0.0</td>\n",
       "    </tr>\n",
       "    <tr>\n",
       "      <th>2</th>\n",
       "      <td>NaN</td>\n",
       "      <td>0.222222</td>\n",
       "      <td>0.0</td>\n",
       "      <td>0.0</td>\n",
       "      <td>0.0</td>\n",
       "      <td>0.0</td>\n",
       "      <td>0.0</td>\n",
       "      <td>1.0</td>\n",
       "      <td>0.0</td>\n",
       "      <td>1.0</td>\n",
       "      <td>0.0</td>\n",
       "      <td>0.0</td>\n",
       "    </tr>\n",
       "    <tr>\n",
       "      <th>3</th>\n",
       "      <td>NaN</td>\n",
       "      <td>0.222222</td>\n",
       "      <td>0.0</td>\n",
       "      <td>0.0</td>\n",
       "      <td>0.0</td>\n",
       "      <td>0.0</td>\n",
       "      <td>0.0</td>\n",
       "      <td>0.0</td>\n",
       "      <td>0.0</td>\n",
       "      <td>1.0</td>\n",
       "      <td>0.0</td>\n",
       "      <td>0.0</td>\n",
       "    </tr>\n",
       "    <tr>\n",
       "      <th>4</th>\n",
       "      <td>NaN</td>\n",
       "      <td>0.222222</td>\n",
       "      <td>0.0</td>\n",
       "      <td>0.0</td>\n",
       "      <td>0.0</td>\n",
       "      <td>0.0</td>\n",
       "      <td>0.0</td>\n",
       "      <td>1.0</td>\n",
       "      <td>0.0</td>\n",
       "      <td>1.0</td>\n",
       "      <td>0.0</td>\n",
       "      <td>0.0</td>\n",
       "    </tr>\n",
       "  </tbody>\n",
       "</table>\n",
       "</div>"
      ],
      "text/plain": [
       "   size      year  split  fit_Slightly large  fit_Slightly small  \\\n",
       "0   NaN  0.222222    0.0                 0.0                 0.0   \n",
       "1   NaN  0.222222    0.0                 0.0                 0.0   \n",
       "2   NaN  0.222222    0.0                 0.0                 0.0   \n",
       "3   NaN  0.222222    0.0                 0.0                 0.0   \n",
       "4   NaN  0.222222    0.0                 0.0                 0.0   \n",
       "\n",
       "   fit_Very large  fit_Very small  user_attr_Small  model_attr_Small&Large  \\\n",
       "0             0.0             0.0              1.0                     0.0   \n",
       "1             0.0             0.0              0.0                     0.0   \n",
       "2             0.0             0.0              1.0                     0.0   \n",
       "3             0.0             0.0              0.0                     0.0   \n",
       "4             0.0             0.0              1.0                     0.0   \n",
       "\n",
       "   category_Dresses  category_Outerwear  category_Tops  \n",
       "0               1.0                 0.0            0.0  \n",
       "1               1.0                 0.0            0.0  \n",
       "2               1.0                 0.0            0.0  \n",
       "3               1.0                 0.0            0.0  \n",
       "4               1.0                 0.0            0.0  "
      ]
     },
     "execution_count": 27,
     "metadata": {},
     "output_type": "execute_result"
    }
   ],
   "source": [
    "# scaling features \n",
    "scaler = MinMaxScaler()\n",
    "scaled_features = pd.DataFrame(scaler.fit_transform(features), columns = features.columns)\n",
    "scaled_features.head()"
   ]
  },
  {
   "cell_type": "code",
   "execution_count": 28,
   "id": "9fc00359",
   "metadata": {},
   "outputs": [],
   "source": [
    "# defining a function to imputs categorica columns in the features dataframe\n",
    "def knn_imputer(df, n):\n",
    "    imputer = KNNImputer(n_neighbors = n)\n",
    "    df_trans = imputer.fit_transform(df)\n",
    "    return df_trans"
   ]
  },
  {
   "cell_type": "code",
   "execution_count": 29,
   "id": "a6ea6b42",
   "metadata": {},
   "outputs": [],
   "source": [
    "# implementing the imputer on the scaled features\n",
    "processed_features = knn_imputer(scaled_features, 5)"
   ]
  },
  {
   "cell_type": "code",
   "execution_count": 30,
   "id": "2b6e9f1a",
   "metadata": {},
   "outputs": [
    {
     "ename": "AttributeError",
     "evalue": "'numpy.ndarray' object has no attribute 'columns'",
     "output_type": "error",
     "traceback": [
      "\u001b[0;31m---------------------------------------------------------------------------\u001b[0m",
      "\u001b[0;31mAttributeError\u001b[0m                            Traceback (most recent call last)",
      "\u001b[0;32m<ipython-input-30-d8b72867658e>\u001b[0m in \u001b[0;36m<module>\u001b[0;34m\u001b[0m\n\u001b[0;32m----> 1\u001b[0;31m \u001b[0mprocessed_features\u001b[0m \u001b[0;34m=\u001b[0m \u001b[0mpd\u001b[0m\u001b[0;34m.\u001b[0m\u001b[0mDataFrame\u001b[0m\u001b[0;34m(\u001b[0m\u001b[0mprocessed_features\u001b[0m\u001b[0;34m,\u001b[0m \u001b[0mcolumns\u001b[0m \u001b[0;34m=\u001b[0m \u001b[0mprocessed_features\u001b[0m\u001b[0;34m.\u001b[0m\u001b[0mcolumns\u001b[0m\u001b[0;34m)\u001b[0m\u001b[0;34m\u001b[0m\u001b[0;34m\u001b[0m\u001b[0m\n\u001b[0m",
      "\u001b[0;31mAttributeError\u001b[0m: 'numpy.ndarray' object has no attribute 'columns'"
     ]
    }
   ],
   "source": [
    "processed_features = pd.DataFrame(processed_features, columns = processed_features.columns)"
   ]
  },
  {
   "cell_type": "code",
   "execution_count": null,
   "id": "7442198e",
   "metadata": {},
   "outputs": [],
   "source": [
    "# confirming that the dataframe doesnt have anymore missing values\n",
    "processed_features.isna().any()"
   ]
  },
  {
   "cell_type": "code",
   "execution_count": null,
   "id": "4ceeef89",
   "metadata": {},
   "outputs": [],
   "source": [
    "ratings = raw_data[['item_id', 'user_id','rating']]"
   ]
  },
  {
   "cell_type": "code",
   "execution_count": null,
   "id": "1b3b3140",
   "metadata": {},
   "outputs": [],
   "source": [
    "raw_features = data.drop(['item_id', 'user_id','rating', ], axis = 1)"
   ]
  },
  {
   "cell_type": "markdown",
   "id": "f7942279",
   "metadata": {},
   "source": [
    "### Writing the processed data as csv to input EDA notebook"
   ]
  },
  {
   "cell_type": "markdown",
   "id": "f06f0d96",
   "metadata": {},
   "source": [
    "From this stage, we will end up with 3 different data frames to pursuit different types of modelling. these are:\n",
    "    - ratings: having no missing values of item/user/rating data\n",
    "    - raw_features: having the unprocessed, uncleaned categorical attributes describing the items\n",
    "    - processed_features: having processed, encoded and imputed missing values features"
   ]
  },
  {
   "cell_type": "code",
   "execution_count": null,
   "id": "f673153f",
   "metadata": {},
   "outputs": [],
   "source": [
    "ratings.to_csv(r'/Users/judith/Data_science_projects/Springboard_AssignmentsJY/capstone_three/data/processed/ratings_data.csv', index=False)\n",
    "raw_features.to_csv(r'/Users/judith/Data_science_projects/Springboard_AssignmentsJY/capstone_three/data/processed/raw_features.csv', index=False)\n",
    "processed_features.to_csv(r'/Users/judith/Data_science_projects/Springboard_AssignmentsJY/capstone_three/data/processed/processed_products_data.csv', index=False)"
   ]
  },
  {
   "cell_type": "markdown",
   "id": "74375dcf",
   "metadata": {},
   "source": [
    "**Key takeouts:**\n",
    "- There are far more customers than products with a ratio of 43 purchases per customers\n",
    "- Rating data are cleaned without any gap from a scale from 1 to 5\n",
    "- Additional data includes characteristics of products such as size, model, category...ect\n",
    "- We dont have information regarding users other than their ID and products they purchased\n",
    "- Though the brand purchased seemed to be an important feature, we had to discard it as most products are not tagged with a brand name\n",
    "- There are 'very popular' items with high numbers of rating while others have much lower number of rating\n",
    "\n",
    "**Modelling approach:**\n",
    "- The data available can be used for differnet modelling scenario using both collaborative filtering and content base:\n",
    "- Collaborative filtering: here we focus on the interactions user/item/ratings to predict products\n",
    "- Contents base: we can use the items features to provide recommendations to new users or for new products\n",
    "We will deep dive into the 2 approaches over the next notebook"
   ]
  }
 ],
 "metadata": {
  "kernelspec": {
   "display_name": "Python 3",
   "language": "python",
   "name": "python3"
  },
  "language_info": {
   "codemirror_mode": {
    "name": "ipython",
    "version": 3
   },
   "file_extension": ".py",
   "mimetype": "text/x-python",
   "name": "python",
   "nbconvert_exporter": "python",
   "pygments_lexer": "ipython3",
   "version": "3.7.7"
  }
 },
 "nbformat": 4,
 "nbformat_minor": 5
}
