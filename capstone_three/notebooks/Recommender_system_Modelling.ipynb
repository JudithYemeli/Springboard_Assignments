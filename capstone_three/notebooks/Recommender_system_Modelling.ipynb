{
 "cells": [
  {
   "cell_type": "markdown",
   "id": "761a8f8d",
   "metadata": {},
   "source": [
    "# E-COMMERCE RECOMMENDER SYTEM"
   ]
  },
  {
   "cell_type": "markdown",
   "id": "23b56416",
   "metadata": {},
   "source": [
    "# MODELLING"
   ]
  },
  {
   "cell_type": "markdown",
   "id": "32c42325",
   "metadata": {},
   "source": [
    "## Imports"
   ]
  },
  {
   "cell_type": "code",
   "execution_count": 88,
   "id": "c34b68f9",
   "metadata": {},
   "outputs": [],
   "source": [
    "import pandas as pd\n",
    "import numpy as np\n",
    "import matplotlib.pyplot as plt\n",
    "import seaborn as sns\n",
    "from scipy.sparse import csr_matrix\n",
    "from sklearn.model_selection import train_test_split\n",
    "from sklearn.neighbors import NearestNeighbors\n",
    "from sklearn.metrics import mean_squared_error\n",
    "from sklearn.decomposition import TruncatedSVD"
   ]
  },
  {
   "cell_type": "markdown",
   "id": "b1effede",
   "metadata": {},
   "source": [
    "## Loading and reading data"
   ]
  },
  {
   "cell_type": "code",
   "execution_count": 14,
   "id": "23b2c23e",
   "metadata": {},
   "outputs": [],
   "source": [
    "ratings = pd.read_csv('/Users/judith/Data_science_projects/Springboard_AssignmentsJY/capstone_three/data/processed/processed_ratings_data.csv')"
   ]
  },
  {
   "cell_type": "code",
   "execution_count": 15,
   "id": "b265a29d",
   "metadata": {},
   "outputs": [
    {
     "data": {
      "text/html": [
       "<div>\n",
       "<style scoped>\n",
       "    .dataframe tbody tr th:only-of-type {\n",
       "        vertical-align: middle;\n",
       "    }\n",
       "\n",
       "    .dataframe tbody tr th {\n",
       "        vertical-align: top;\n",
       "    }\n",
       "\n",
       "    .dataframe thead th {\n",
       "        text-align: right;\n",
       "    }\n",
       "</style>\n",
       "<table border=\"1\" class=\"dataframe\">\n",
       "  <thead>\n",
       "    <tr style=\"text-align: right;\">\n",
       "      <th></th>\n",
       "      <th>Unnamed: 0</th>\n",
       "      <th>item_id</th>\n",
       "      <th>user_id</th>\n",
       "      <th>rating</th>\n",
       "    </tr>\n",
       "  </thead>\n",
       "  <tbody>\n",
       "    <tr>\n",
       "      <th>0</th>\n",
       "      <td>0</td>\n",
       "      <td>7443</td>\n",
       "      <td>Alex</td>\n",
       "      <td>4</td>\n",
       "    </tr>\n",
       "    <tr>\n",
       "      <th>1</th>\n",
       "      <td>1</td>\n",
       "      <td>7443</td>\n",
       "      <td>carolyn.agan</td>\n",
       "      <td>3</td>\n",
       "    </tr>\n",
       "    <tr>\n",
       "      <th>2</th>\n",
       "      <td>2</td>\n",
       "      <td>7443</td>\n",
       "      <td>Robyn</td>\n",
       "      <td>4</td>\n",
       "    </tr>\n",
       "    <tr>\n",
       "      <th>3</th>\n",
       "      <td>3</td>\n",
       "      <td>7443</td>\n",
       "      <td>De</td>\n",
       "      <td>4</td>\n",
       "    </tr>\n",
       "    <tr>\n",
       "      <th>4</th>\n",
       "      <td>4</td>\n",
       "      <td>7443</td>\n",
       "      <td>tasha</td>\n",
       "      <td>4</td>\n",
       "    </tr>\n",
       "  </tbody>\n",
       "</table>\n",
       "</div>"
      ],
      "text/plain": [
       "   Unnamed: 0  item_id       user_id  rating\n",
       "0           0     7443          Alex       4\n",
       "1           1     7443  carolyn.agan       3\n",
       "2           2     7443         Robyn       4\n",
       "3           3     7443            De       4\n",
       "4           4     7443         tasha       4"
      ]
     },
     "execution_count": 15,
     "metadata": {},
     "output_type": "execute_result"
    }
   ],
   "source": [
    "ratings.head()"
   ]
  },
  {
   "cell_type": "code",
   "execution_count": 16,
   "id": "9ff11635",
   "metadata": {},
   "outputs": [],
   "source": [
    "ratings.drop('Unnamed: 0', axis = 1, inplace = True)"
   ]
  },
  {
   "cell_type": "markdown",
   "id": "3151c7d1",
   "metadata": {},
   "source": [
    "### Summary from Wrangling and EDA phases"
   ]
  },
  {
   "cell_type": "markdown",
   "id": "2509821e",
   "metadata": {},
   "source": [
    "Key takeouts from the previous phase suggest we can leverage collaborative filtering to design the recommender system. This can be done in 2 ways:\n",
    "- Products based: recommend products to users based on products similarities\n",
    "- Users based: recommend products to users based on what people similar to them have bought\n",
    "- For this case, since there are far more users than products, it seems logical to use a user based approach that will limits the dimensionality of the data and will be easier to compute as we have much more data to profile every customers. However, the cons of this approach is the fact that it comes with more variability and makes it difficult to make recommendations to new users. Hence we will use the products based approach instead using cosine similarity."
   ]
  },
  {
   "cell_type": "markdown",
   "id": "4c9daffb",
   "metadata": {},
   "source": [
    "## Collaborative Filtering: what products to recommend to which customers?"
   ]
  },
  {
   "cell_type": "markdown",
   "id": "a7c0e8d8",
   "metadata": {},
   "source": [
    "### Approach 1: KNN"
   ]
  },
  {
   "cell_type": "markdown",
   "id": "cb3cf1b6",
   "metadata": {},
   "source": [
    "#### Creating the model"
   ]
  },
  {
   "cell_type": "markdown",
   "id": "7ae16441",
   "metadata": {},
   "source": [
    "We will apply a model based approach to predict user's rating using a KNN algorithm"
   ]
  },
  {
   "cell_type": "code",
   "execution_count": 18,
   "id": "5a0c4a74",
   "metadata": {},
   "outputs": [],
   "source": [
    "ratings_cleaned = ratings.drop_duplicates(subset=['item_id', 'user_id'])"
   ]
  },
  {
   "cell_type": "code",
   "execution_count": 139,
   "id": "03a08de2",
   "metadata": {},
   "outputs": [
    {
     "data": {
      "text/plain": [
       "item_id    0\n",
       "user_id    1\n",
       "rating     0\n",
       "dtype: int64"
      ]
     },
     "execution_count": 139,
     "metadata": {},
     "output_type": "execute_result"
    }
   ],
   "source": [
    "ratings_cleaned.isnull().sum()"
   ]
  },
  {
   "cell_type": "code",
   "execution_count": 142,
   "id": "73d7d833",
   "metadata": {},
   "outputs": [],
   "source": [
    "new = ratings_cleaned.dropna(subset = ['user_id'])"
   ]
  },
  {
   "cell_type": "code",
   "execution_count": 40,
   "id": "b7db7caf",
   "metadata": {},
   "outputs": [],
   "source": [
    "# creating the matrix to input the model by pivoting the dataframe\n",
    "ratings_pivot = ratings_cleaned.pivot(index = 'item_id', \n",
    "                                  columns = 'user_id', \n",
    "                                  values = 'rating').fillna(0)"
   ]
  },
  {
   "cell_type": "code",
   "execution_count": 41,
   "id": "5f5c280c",
   "metadata": {},
   "outputs": [
    {
     "data": {
      "text/html": [
       "<div>\n",
       "<style scoped>\n",
       "    .dataframe tbody tr th:only-of-type {\n",
       "        vertical-align: middle;\n",
       "    }\n",
       "\n",
       "    .dataframe tbody tr th {\n",
       "        vertical-align: top;\n",
       "    }\n",
       "\n",
       "    .dataframe thead th {\n",
       "        text-align: right;\n",
       "    }\n",
       "</style>\n",
       "<table border=\"1\" class=\"dataframe\">\n",
       "  <thead>\n",
       "    <tr style=\"text-align: right;\">\n",
       "      <th>user_id</th>\n",
       "      <th>NaN</th>\n",
       "      <th>\"Ferrari\")</th>\n",
       "      <th>#</th>\n",
       "      <th>#1dad</th>\n",
       "      <th>'Chelle</th>\n",
       "      <th>'Tree'</th>\n",
       "      <th>(usually)</th>\n",
       "      <th>-L</th>\n",
       "      <th>.</th>\n",
       "      <th>..</th>\n",
       "      <th>...</th>\n",
       "      <th>zuel</th>\n",
       "      <th>zugai01</th>\n",
       "      <th>zulemaphone</th>\n",
       "      <th>zumbafitnesscarly</th>\n",
       "      <th>zumbaneko</th>\n",
       "      <th>zurajohnson</th>\n",
       "      <th>zuzu_zoom</th>\n",
       "      <th>🇦🇺</th>\n",
       "      <th>🐻</th>\n",
       "      <th>😊</th>\n",
       "    </tr>\n",
       "    <tr>\n",
       "      <th>item_id</th>\n",
       "      <th></th>\n",
       "      <th></th>\n",
       "      <th></th>\n",
       "      <th></th>\n",
       "      <th></th>\n",
       "      <th></th>\n",
       "      <th></th>\n",
       "      <th></th>\n",
       "      <th></th>\n",
       "      <th></th>\n",
       "      <th></th>\n",
       "      <th></th>\n",
       "      <th></th>\n",
       "      <th></th>\n",
       "      <th></th>\n",
       "      <th></th>\n",
       "      <th></th>\n",
       "      <th></th>\n",
       "      <th></th>\n",
       "      <th></th>\n",
       "      <th></th>\n",
       "    </tr>\n",
       "  </thead>\n",
       "  <tbody>\n",
       "    <tr>\n",
       "      <th>6454</th>\n",
       "      <td>0.0</td>\n",
       "      <td>0.0</td>\n",
       "      <td>0.0</td>\n",
       "      <td>0.0</td>\n",
       "      <td>0.0</td>\n",
       "      <td>0.0</td>\n",
       "      <td>0.0</td>\n",
       "      <td>0.0</td>\n",
       "      <td>0.0</td>\n",
       "      <td>0.0</td>\n",
       "      <td>...</td>\n",
       "      <td>0.0</td>\n",
       "      <td>0.0</td>\n",
       "      <td>0.0</td>\n",
       "      <td>0.0</td>\n",
       "      <td>0.0</td>\n",
       "      <td>0.0</td>\n",
       "      <td>0.0</td>\n",
       "      <td>0.0</td>\n",
       "      <td>0.0</td>\n",
       "      <td>0.0</td>\n",
       "    </tr>\n",
       "    <tr>\n",
       "      <th>7443</th>\n",
       "      <td>0.0</td>\n",
       "      <td>0.0</td>\n",
       "      <td>0.0</td>\n",
       "      <td>0.0</td>\n",
       "      <td>0.0</td>\n",
       "      <td>0.0</td>\n",
       "      <td>0.0</td>\n",
       "      <td>0.0</td>\n",
       "      <td>0.0</td>\n",
       "      <td>0.0</td>\n",
       "      <td>...</td>\n",
       "      <td>0.0</td>\n",
       "      <td>0.0</td>\n",
       "      <td>0.0</td>\n",
       "      <td>0.0</td>\n",
       "      <td>0.0</td>\n",
       "      <td>0.0</td>\n",
       "      <td>0.0</td>\n",
       "      <td>0.0</td>\n",
       "      <td>0.0</td>\n",
       "      <td>0.0</td>\n",
       "    </tr>\n",
       "    <tr>\n",
       "      <th>11960</th>\n",
       "      <td>0.0</td>\n",
       "      <td>0.0</td>\n",
       "      <td>0.0</td>\n",
       "      <td>0.0</td>\n",
       "      <td>0.0</td>\n",
       "      <td>0.0</td>\n",
       "      <td>0.0</td>\n",
       "      <td>0.0</td>\n",
       "      <td>0.0</td>\n",
       "      <td>0.0</td>\n",
       "      <td>...</td>\n",
       "      <td>0.0</td>\n",
       "      <td>0.0</td>\n",
       "      <td>0.0</td>\n",
       "      <td>0.0</td>\n",
       "      <td>0.0</td>\n",
       "      <td>0.0</td>\n",
       "      <td>0.0</td>\n",
       "      <td>0.0</td>\n",
       "      <td>0.0</td>\n",
       "      <td>0.0</td>\n",
       "    </tr>\n",
       "    <tr>\n",
       "      <th>16411</th>\n",
       "      <td>0.0</td>\n",
       "      <td>0.0</td>\n",
       "      <td>0.0</td>\n",
       "      <td>0.0</td>\n",
       "      <td>0.0</td>\n",
       "      <td>0.0</td>\n",
       "      <td>0.0</td>\n",
       "      <td>0.0</td>\n",
       "      <td>0.0</td>\n",
       "      <td>0.0</td>\n",
       "      <td>...</td>\n",
       "      <td>0.0</td>\n",
       "      <td>0.0</td>\n",
       "      <td>0.0</td>\n",
       "      <td>0.0</td>\n",
       "      <td>0.0</td>\n",
       "      <td>0.0</td>\n",
       "      <td>0.0</td>\n",
       "      <td>0.0</td>\n",
       "      <td>0.0</td>\n",
       "      <td>0.0</td>\n",
       "    </tr>\n",
       "    <tr>\n",
       "      <th>21296</th>\n",
       "      <td>0.0</td>\n",
       "      <td>0.0</td>\n",
       "      <td>0.0</td>\n",
       "      <td>0.0</td>\n",
       "      <td>0.0</td>\n",
       "      <td>0.0</td>\n",
       "      <td>0.0</td>\n",
       "      <td>0.0</td>\n",
       "      <td>0.0</td>\n",
       "      <td>0.0</td>\n",
       "      <td>...</td>\n",
       "      <td>0.0</td>\n",
       "      <td>0.0</td>\n",
       "      <td>0.0</td>\n",
       "      <td>0.0</td>\n",
       "      <td>0.0</td>\n",
       "      <td>0.0</td>\n",
       "      <td>0.0</td>\n",
       "      <td>0.0</td>\n",
       "      <td>0.0</td>\n",
       "      <td>0.0</td>\n",
       "    </tr>\n",
       "  </tbody>\n",
       "</table>\n",
       "<p>5 rows × 44784 columns</p>\n",
       "</div>"
      ],
      "text/plain": [
       "user_id  NaN  \"Ferrari\")    #  #1dad  'Chelle  'Tree'  (usually)   -L    .  \\\n",
       "item_id                                                                      \n",
       "6454     0.0         0.0  0.0    0.0      0.0     0.0        0.0  0.0  0.0   \n",
       "7443     0.0         0.0  0.0    0.0      0.0     0.0        0.0  0.0  0.0   \n",
       "11960    0.0         0.0  0.0    0.0      0.0     0.0        0.0  0.0  0.0   \n",
       "16411    0.0         0.0  0.0    0.0      0.0     0.0        0.0  0.0  0.0   \n",
       "21296    0.0         0.0  0.0    0.0      0.0     0.0        0.0  0.0  0.0   \n",
       "\n",
       "user_id   ..  ...  zuel  zugai01  zulemaphone  zumbafitnesscarly  zumbaneko  \\\n",
       "item_id       ...                                                             \n",
       "6454     0.0  ...   0.0      0.0          0.0                0.0        0.0   \n",
       "7443     0.0  ...   0.0      0.0          0.0                0.0        0.0   \n",
       "11960    0.0  ...   0.0      0.0          0.0                0.0        0.0   \n",
       "16411    0.0  ...   0.0      0.0          0.0                0.0        0.0   \n",
       "21296    0.0  ...   0.0      0.0          0.0                0.0        0.0   \n",
       "\n",
       "user_id  zurajohnson  zuzu_zoom   🇦🇺    🐻    😊  \n",
       "item_id                                         \n",
       "6454             0.0        0.0  0.0  0.0  0.0  \n",
       "7443             0.0        0.0  0.0  0.0  0.0  \n",
       "11960            0.0        0.0  0.0  0.0  0.0  \n",
       "16411            0.0        0.0  0.0  0.0  0.0  \n",
       "21296            0.0        0.0  0.0  0.0  0.0  \n",
       "\n",
       "[5 rows x 44784 columns]"
      ]
     },
     "execution_count": 41,
     "metadata": {},
     "output_type": "execute_result"
    }
   ],
   "source": [
    "# Checking the result of the pivot\n",
    "ratings_pivot.head()"
   ]
  },
  {
   "cell_type": "code",
   "execution_count": 44,
   "id": "ddf843fb",
   "metadata": {},
   "outputs": [],
   "source": [
    "# As we could have expected, the resulting dataframe is sparse with many customers\n",
    "# who never bought any product. This is why we are transforming the pivot table into\n",
    "# a scipy csr_matrix\n",
    "\n",
    "ratings_matrix = csr_matrix(ratings_pivot.values)"
   ]
  },
  {
   "cell_type": "code",
   "execution_count": 86,
   "id": "29c48210",
   "metadata": {},
   "outputs": [],
   "source": [
    "# split data into train and test\n",
    "train, test = train_test_split(ratings_matrix, test_size = 0.25, random_state = 0)"
   ]
  },
  {
   "cell_type": "code",
   "execution_count": 89,
   "id": "8e1aa83a",
   "metadata": {},
   "outputs": [
    {
     "data": {
      "text/plain": [
       "NearestNeighbors(algorithm='brute', metric='cosine', n_neighbors=20)"
      ]
     },
     "execution_count": 89,
     "metadata": {},
     "output_type": "execute_result"
    }
   ],
   "source": [
    "recommender_knn = NearestNeighbors(metric='cosine', algorithm='brute', n_neighbors=20)\n",
    "recommender_knn.fit(ratings_matrix)"
   ]
  },
  {
   "cell_type": "code",
   "execution_count": null,
   "id": "def0afab",
   "metadata": {},
   "outputs": [],
   "source": []
  },
  {
   "cell_type": "code",
   "execution_count": null,
   "id": "2e9216cf",
   "metadata": {},
   "outputs": [],
   "source": []
  },
  {
   "cell_type": "markdown",
   "id": "f84dac36",
   "metadata": {},
   "source": [
    "#### Making recommendations"
   ]
  },
  {
   "cell_type": "code",
   "execution_count": 49,
   "id": "83239e19",
   "metadata": {},
   "outputs": [
    {
     "data": {
      "text/plain": [
       "462"
      ]
     },
     "execution_count": 49,
     "metadata": {},
     "output_type": "execute_result"
    }
   ],
   "source": [
    "# Generating sample index to use for the recommendations\n",
    "query_index = np.random.choice(ratings_features.shape[0])"
   ]
  },
  {
   "cell_type": "code",
   "execution_count": 36,
   "id": "30078036",
   "metadata": {},
   "outputs": [],
   "source": [
    "distances, indices = recommender_knn.kneighbors(ratings_features.iloc[query_index, :].values.reshape(1, -1), n_neighbors = 6)"
   ]
  },
  {
   "cell_type": "code",
   "execution_count": 38,
   "id": "7636e75e",
   "metadata": {},
   "outputs": [
    {
     "name": "stdout",
     "output_type": "stream",
     "text": [
      "Recommendations for 151226:\n",
      "\n",
      "1: 153261, with distance of 0.8127403208675936:\n",
      "2: 152691, with distance of 0.8171818939682174:\n",
      "3: 152377, with distance of 0.8361477807591444:\n",
      "4: 152209, with distance of 0.8454904998458298:\n",
      "5: 151475, with distance of 0.8537455151745739:\n"
     ]
    }
   ],
   "source": [
    "for i in range(0, len(distances.flatten())):\n",
    "    if i == 0:\n",
    "        print('Recommendations for {0}:\\n'.format(ratings_pivot.index[query_index]))\n",
    "    else:\n",
    "        print('{0}: {1}, with distance of {2}:'.format(i, ratings_pivot.index[indices.flatten()[i]], distances.flatten()[i]))"
   ]
  },
  {
   "cell_type": "markdown",
   "id": "051f0f3c",
   "metadata": {},
   "source": [
    "mean_squared_error()"
   ]
  },
  {
   "cell_type": "markdown",
   "id": "41134be9",
   "metadata": {},
   "source": [
    "Divide your data into train and test set by users.\n",
    "For a user in test set, given their history, get the top N recommendations using implicit feedback based model.\n",
    "Precision can be calculated using # of recommendations given by model which actually matched by what user had acted upon (for example read in case of articles).\n",
    "Recall can be calculated using # of user actions (articles read by user) that were captured by top N recommendations.\n",
    "You can calculate these for all users in test set and average them."
   ]
  },
  {
   "cell_type": "code",
   "execution_count": 150,
   "id": "867acfcc",
   "metadata": {},
   "outputs": [
    {
     "name": "stdout",
     "output_type": "stream",
     "text": [
      "Train set size is 79913\n",
      "Test set size is 19979\n"
     ]
    }
   ],
   "source": [
    "train, test = train_test_split(new,\n",
    "                              test_size = 0.20,\n",
    "                              random_state = 42)\n",
    "print('Train set size is {}'.format(len(train)))\n",
    "print('Test set size is {}'.format(len(test)))"
   ]
  },
  {
   "cell_type": "code",
   "execution_count": 148,
   "id": "e0e6c9b0",
   "metadata": {},
   "outputs": [
    {
     "data": {
      "text/plain": [
       "(99892, 3)"
      ]
     },
     "execution_count": 148,
     "metadata": {},
     "output_type": "execute_result"
    }
   ],
   "source": [
    "new.shape"
   ]
  },
  {
   "cell_type": "code",
   "execution_count": null,
   "id": "f2181a17",
   "metadata": {},
   "outputs": [],
   "source": []
  },
  {
   "cell_type": "code",
   "execution_count": null,
   "id": "8cb289b8",
   "metadata": {},
   "outputs": [],
   "source": []
  },
  {
   "cell_type": "markdown",
   "id": "85c5f27f",
   "metadata": {},
   "source": [
    "### Approach 2: Matrix Factorization"
   ]
  },
  {
   "cell_type": "markdown",
   "id": "8f863578",
   "metadata": {},
   "source": [
    "#### Creating the model"
   ]
  },
  {
   "cell_type": "code",
   "execution_count": 51,
   "id": "32890b45",
   "metadata": {},
   "outputs": [],
   "source": [
    "ratings_pivot2 = ratings_cleaned.pivot(index = 'user_id', \n",
    "                                       columns = 'item_id', \n",
    "                                       values = 'rating').fillna(0)"
   ]
  },
  {
   "cell_type": "code",
   "execution_count": 52,
   "id": "e8e5f58a",
   "metadata": {},
   "outputs": [
    {
     "data": {
      "text/html": [
       "<div>\n",
       "<style scoped>\n",
       "    .dataframe tbody tr th:only-of-type {\n",
       "        vertical-align: middle;\n",
       "    }\n",
       "\n",
       "    .dataframe tbody tr th {\n",
       "        vertical-align: top;\n",
       "    }\n",
       "\n",
       "    .dataframe thead th {\n",
       "        text-align: right;\n",
       "    }\n",
       "</style>\n",
       "<table border=\"1\" class=\"dataframe\">\n",
       "  <thead>\n",
       "    <tr style=\"text-align: right;\">\n",
       "      <th>item_id</th>\n",
       "      <th>6454</th>\n",
       "      <th>7443</th>\n",
       "      <th>11960</th>\n",
       "      <th>16411</th>\n",
       "      <th>21296</th>\n",
       "      <th>22563</th>\n",
       "      <th>24853</th>\n",
       "      <th>27439</th>\n",
       "      <th>27590</th>\n",
       "      <th>28252</th>\n",
       "      <th>...</th>\n",
       "      <th>155090</th>\n",
       "      <th>155165</th>\n",
       "      <th>155293</th>\n",
       "      <th>155305</th>\n",
       "      <th>155307</th>\n",
       "      <th>155308</th>\n",
       "      <th>155317</th>\n",
       "      <th>155537</th>\n",
       "      <th>155597</th>\n",
       "      <th>155950</th>\n",
       "    </tr>\n",
       "    <tr>\n",
       "      <th>user_id</th>\n",
       "      <th></th>\n",
       "      <th></th>\n",
       "      <th></th>\n",
       "      <th></th>\n",
       "      <th></th>\n",
       "      <th></th>\n",
       "      <th></th>\n",
       "      <th></th>\n",
       "      <th></th>\n",
       "      <th></th>\n",
       "      <th></th>\n",
       "      <th></th>\n",
       "      <th></th>\n",
       "      <th></th>\n",
       "      <th></th>\n",
       "      <th></th>\n",
       "      <th></th>\n",
       "      <th></th>\n",
       "      <th></th>\n",
       "      <th></th>\n",
       "      <th></th>\n",
       "    </tr>\n",
       "  </thead>\n",
       "  <tbody>\n",
       "    <tr>\n",
       "      <th>NaN</th>\n",
       "      <td>0.0</td>\n",
       "      <td>0.0</td>\n",
       "      <td>0.0</td>\n",
       "      <td>0.0</td>\n",
       "      <td>0.0</td>\n",
       "      <td>0.0</td>\n",
       "      <td>0.0</td>\n",
       "      <td>0.0</td>\n",
       "      <td>0.0</td>\n",
       "      <td>0.0</td>\n",
       "      <td>...</td>\n",
       "      <td>0.0</td>\n",
       "      <td>0.0</td>\n",
       "      <td>0.0</td>\n",
       "      <td>0.0</td>\n",
       "      <td>0.0</td>\n",
       "      <td>0.0</td>\n",
       "      <td>0.0</td>\n",
       "      <td>0.0</td>\n",
       "      <td>0.0</td>\n",
       "      <td>0.0</td>\n",
       "    </tr>\n",
       "    <tr>\n",
       "      <th>\"Ferrari\")</th>\n",
       "      <td>0.0</td>\n",
       "      <td>0.0</td>\n",
       "      <td>0.0</td>\n",
       "      <td>0.0</td>\n",
       "      <td>0.0</td>\n",
       "      <td>0.0</td>\n",
       "      <td>0.0</td>\n",
       "      <td>0.0</td>\n",
       "      <td>0.0</td>\n",
       "      <td>0.0</td>\n",
       "      <td>...</td>\n",
       "      <td>0.0</td>\n",
       "      <td>0.0</td>\n",
       "      <td>0.0</td>\n",
       "      <td>0.0</td>\n",
       "      <td>0.0</td>\n",
       "      <td>0.0</td>\n",
       "      <td>0.0</td>\n",
       "      <td>0.0</td>\n",
       "      <td>0.0</td>\n",
       "      <td>0.0</td>\n",
       "    </tr>\n",
       "    <tr>\n",
       "      <th>#</th>\n",
       "      <td>0.0</td>\n",
       "      <td>0.0</td>\n",
       "      <td>0.0</td>\n",
       "      <td>0.0</td>\n",
       "      <td>0.0</td>\n",
       "      <td>0.0</td>\n",
       "      <td>0.0</td>\n",
       "      <td>0.0</td>\n",
       "      <td>0.0</td>\n",
       "      <td>0.0</td>\n",
       "      <td>...</td>\n",
       "      <td>0.0</td>\n",
       "      <td>0.0</td>\n",
       "      <td>0.0</td>\n",
       "      <td>0.0</td>\n",
       "      <td>0.0</td>\n",
       "      <td>0.0</td>\n",
       "      <td>0.0</td>\n",
       "      <td>0.0</td>\n",
       "      <td>0.0</td>\n",
       "      <td>0.0</td>\n",
       "    </tr>\n",
       "    <tr>\n",
       "      <th>#1dad</th>\n",
       "      <td>0.0</td>\n",
       "      <td>0.0</td>\n",
       "      <td>0.0</td>\n",
       "      <td>0.0</td>\n",
       "      <td>0.0</td>\n",
       "      <td>0.0</td>\n",
       "      <td>0.0</td>\n",
       "      <td>0.0</td>\n",
       "      <td>0.0</td>\n",
       "      <td>0.0</td>\n",
       "      <td>...</td>\n",
       "      <td>0.0</td>\n",
       "      <td>0.0</td>\n",
       "      <td>0.0</td>\n",
       "      <td>0.0</td>\n",
       "      <td>0.0</td>\n",
       "      <td>0.0</td>\n",
       "      <td>0.0</td>\n",
       "      <td>0.0</td>\n",
       "      <td>0.0</td>\n",
       "      <td>0.0</td>\n",
       "    </tr>\n",
       "    <tr>\n",
       "      <th>'Chelle</th>\n",
       "      <td>0.0</td>\n",
       "      <td>0.0</td>\n",
       "      <td>0.0</td>\n",
       "      <td>0.0</td>\n",
       "      <td>0.0</td>\n",
       "      <td>0.0</td>\n",
       "      <td>0.0</td>\n",
       "      <td>0.0</td>\n",
       "      <td>0.0</td>\n",
       "      <td>0.0</td>\n",
       "      <td>...</td>\n",
       "      <td>0.0</td>\n",
       "      <td>0.0</td>\n",
       "      <td>0.0</td>\n",
       "      <td>0.0</td>\n",
       "      <td>0.0</td>\n",
       "      <td>0.0</td>\n",
       "      <td>0.0</td>\n",
       "      <td>0.0</td>\n",
       "      <td>0.0</td>\n",
       "      <td>0.0</td>\n",
       "    </tr>\n",
       "  </tbody>\n",
       "</table>\n",
       "<p>5 rows × 1020 columns</p>\n",
       "</div>"
      ],
      "text/plain": [
       "item_id     6454    7443    11960   16411   21296   22563   24853   27439   \\\n",
       "user_id                                                                      \n",
       "NaN            0.0     0.0     0.0     0.0     0.0     0.0     0.0     0.0   \n",
       "\"Ferrari\")     0.0     0.0     0.0     0.0     0.0     0.0     0.0     0.0   \n",
       "#              0.0     0.0     0.0     0.0     0.0     0.0     0.0     0.0   \n",
       "#1dad          0.0     0.0     0.0     0.0     0.0     0.0     0.0     0.0   \n",
       "'Chelle        0.0     0.0     0.0     0.0     0.0     0.0     0.0     0.0   \n",
       "\n",
       "item_id     27590   28252   ...  155090  155165  155293  155305  155307  \\\n",
       "user_id                     ...                                           \n",
       "NaN            0.0     0.0  ...     0.0     0.0     0.0     0.0     0.0   \n",
       "\"Ferrari\")     0.0     0.0  ...     0.0     0.0     0.0     0.0     0.0   \n",
       "#              0.0     0.0  ...     0.0     0.0     0.0     0.0     0.0   \n",
       "#1dad          0.0     0.0  ...     0.0     0.0     0.0     0.0     0.0   \n",
       "'Chelle        0.0     0.0  ...     0.0     0.0     0.0     0.0     0.0   \n",
       "\n",
       "item_id     155308  155317  155537  155597  155950  \n",
       "user_id                                             \n",
       "NaN            0.0     0.0     0.0     0.0     0.0  \n",
       "\"Ferrari\")     0.0     0.0     0.0     0.0     0.0  \n",
       "#              0.0     0.0     0.0     0.0     0.0  \n",
       "#1dad          0.0     0.0     0.0     0.0     0.0  \n",
       "'Chelle        0.0     0.0     0.0     0.0     0.0  \n",
       "\n",
       "[5 rows x 1020 columns]"
      ]
     },
     "execution_count": 52,
     "metadata": {},
     "output_type": "execute_result"
    }
   ],
   "source": [
    "ratings_pivot2.head()"
   ]
  },
  {
   "cell_type": "code",
   "execution_count": 53,
   "id": "396a9335",
   "metadata": {},
   "outputs": [
    {
     "data": {
      "text/plain": [
       "(44784, 1020)"
      ]
     },
     "execution_count": 53,
     "metadata": {},
     "output_type": "execute_result"
    }
   ],
   "source": [
    "ratings_pivot2.shape"
   ]
  },
  {
   "cell_type": "code",
   "execution_count": 58,
   "id": "bcab4e12",
   "metadata": {},
   "outputs": [],
   "source": [
    "X = ratings_pivot2.values.T"
   ]
  },
  {
   "cell_type": "code",
   "execution_count": 59,
   "id": "55bb9b64",
   "metadata": {},
   "outputs": [
    {
     "data": {
      "text/plain": [
       "(1020, 44784)"
      ]
     },
     "execution_count": 59,
     "metadata": {},
     "output_type": "execute_result"
    }
   ],
   "source": [
    "X.shape"
   ]
  },
  {
   "cell_type": "code",
   "execution_count": 61,
   "id": "5839ef0a",
   "metadata": {},
   "outputs": [],
   "source": [
    "SVD = TruncatedSVD(n_components = 15, random_state = 17)\n",
    "matrix = SVD.fit_transform(X)"
   ]
  },
  {
   "cell_type": "code",
   "execution_count": 62,
   "id": "5e1bf0cb",
   "metadata": {},
   "outputs": [
    {
     "data": {
      "text/plain": [
       "(1020, 15)"
      ]
     },
     "execution_count": 62,
     "metadata": {},
     "output_type": "execute_result"
    }
   ],
   "source": [
    "matrix.shape"
   ]
  },
  {
   "cell_type": "code",
   "execution_count": 151,
   "id": "9f69fa1c",
   "metadata": {},
   "outputs": [
    {
     "data": {
      "text/plain": [
       "array([[ 5.49506612e+00, -5.48591859e-01, -3.40621050e-01, ...,\n",
       "        -1.08520141e-02, -1.38905720e+00,  6.26893508e-01],\n",
       "       [ 4.50539423e+01, -2.27012790e+00, -2.20482598e+00, ...,\n",
       "        -5.12437921e+00, -2.81682389e+00, -2.20575729e+00],\n",
       "       [ 4.53542127e+01, -6.02720866e+00, -1.20727207e+00, ...,\n",
       "        -1.44116260e+01, -7.24141409e+00, -4.17367664e+00],\n",
       "       ...,\n",
       "       [ 1.38579022e+00,  3.61148485e-02, -1.62724549e-01, ...,\n",
       "         2.96457936e-01, -1.65050127e-01,  2.37421440e-01],\n",
       "       [ 7.01490257e-02, -4.16783838e-02,  2.70667033e-02, ...,\n",
       "        -5.02232048e-03, -3.06042195e-02, -1.15255060e-01],\n",
       "       [ 1.42068394e+00,  2.02621287e-01, -1.35038541e-02, ...,\n",
       "         1.49408621e-01, -1.93731294e-01,  3.77802121e-01]])"
      ]
     },
     "execution_count": 151,
     "metadata": {},
     "output_type": "execute_result"
    }
   ],
   "source": [
    "matrix"
   ]
  },
  {
   "cell_type": "code",
   "execution_count": 64,
   "id": "571d5792",
   "metadata": {},
   "outputs": [
    {
     "data": {
      "text/plain": [
       "(1020, 1020)"
      ]
     },
     "execution_count": 64,
     "metadata": {},
     "output_type": "execute_result"
    }
   ],
   "source": [
    "corr = np.corrcoef(matrix)\n",
    "corr.shape"
   ]
  },
  {
   "cell_type": "code",
   "execution_count": 65,
   "id": "8296fad3",
   "metadata": {},
   "outputs": [],
   "source": [
    "items = ratings_pivot2.columns\n",
    "items_list = list(items)"
   ]
  },
  {
   "cell_type": "code",
   "execution_count": null,
   "id": "3ab2e8f2",
   "metadata": {},
   "outputs": [],
   "source": [
    "us_canada_book_title = us_canada_user_rating_pivot2.columns\n",
    "us_canada_book_list = list(us_canada_book_title)\n",
    "coffey_hands = us_canada_book_list.index(\"The Green Mile: Coffey's Hands (Green Mile Series)\")\n",
    "print(coffey_hands)"
   ]
  },
  {
   "cell_type": "code",
   "execution_count": 69,
   "id": "63ae3da6",
   "metadata": {},
   "outputs": [
    {
     "name": "stdout",
     "output_type": "stream",
     "text": [
      "462\n"
     ]
    }
   ],
   "source": [
    "print(query_index)"
   ]
  },
  {
   "cell_type": "code",
   "execution_count": 76,
   "id": "8592c90d",
   "metadata": {},
   "outputs": [
    {
     "data": {
      "text/plain": [
       "[6454,\n",
       " 7443,\n",
       " 11960,\n",
       " 16411,\n",
       " 21296,\n",
       " 22563,\n",
       " 24853,\n",
       " 27439,\n",
       " 27590,\n",
       " 28252,\n",
       " 28967,\n",
       " 31644,\n",
       " 31752,\n",
       " 32134,\n",
       " 32236,\n",
       " 32403,\n",
       " 32405,\n",
       " 32406,\n",
       " 34931,\n",
       " 34935,\n",
       " 34937]"
      ]
     },
     "execution_count": 76,
     "metadata": {},
     "output_type": "execute_result"
    }
   ],
   "source": [
    "coef = corr[query_index]\n",
    "list(items[(coef <= 0.98)])[:21]"
   ]
  },
  {
   "cell_type": "code",
   "execution_count": null,
   "id": "88bfef35",
   "metadata": {},
   "outputs": [],
   "source": [
    "Models evaluation"
   ]
  },
  {
   "cell_type": "markdown",
   "id": "b0dc324b",
   "metadata": {},
   "source": [
    "Evaluation of the KNN model:\n",
    "- Benefits:No requirement for product descriptions.\n",
    "- Limitations: High dimension resulting in lower performance (they suffer from the curse of dimensionality)\n",
    "    Can’t recommend item if no user reviews exist (suffers from the cold start problem).\n",
    "Difficult to recommend new users and is inclined to favor popular products with lots of reviews.\n",
    "Suffers from a sparsity problem as user will review only selected items.\n",
    "Faces the \"gray sheep problem\" (i.e., useful predictions cannot be made due to sparsity).\n",
    "Difficult to recommend new releases since they have less reviews.\n",
    "alternative\n",
    "SVD\n",
    "we can get a useful part of the data, that is hidden correlation (latent factors) and remove redundant parts\n",
    "Evaluation of the matrix factorization model:"
   ]
  },
  {
   "cell_type": "markdown",
   "id": "47346979",
   "metadata": {},
   "source": [
    "### Content Based Model"
   ]
  },
  {
   "cell_type": "code",
   "execution_count": null,
   "id": "ef6954db",
   "metadata": {},
   "outputs": [],
   "source": [
    "Works even when a product has no user reviews.\n",
    "Recommendations are based on attributes of the item"
   ]
  }
 ],
 "metadata": {
  "kernelspec": {
   "display_name": "Python 3",
   "language": "python",
   "name": "python3"
  },
  "language_info": {
   "codemirror_mode": {
    "name": "ipython",
    "version": 3
   },
   "file_extension": ".py",
   "mimetype": "text/x-python",
   "name": "python",
   "nbconvert_exporter": "python",
   "pygments_lexer": "ipython3",
   "version": "3.7.7"
  }
 },
 "nbformat": 4,
 "nbformat_minor": 5
}
